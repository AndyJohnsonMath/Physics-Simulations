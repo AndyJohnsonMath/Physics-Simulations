{
 "cells": [
  {
   "cell_type": "code",
   "execution_count": 2,
   "id": "ee67e99e",
   "metadata": {},
   "outputs": [],
   "source": [
    "# Plans for the future:\n",
    "#      -Add in a grid pattern\n",
    "#      -Add in a circular pattern + noise to see if it forms a ring around a planetary body\n",
    "#      -Add in stationary masses\n",
    "#      -Record times\n",
    "#      -Make particle size proportional to mass (Use density to figure out)\n",
    "# Add in these features, then start looking at tree methods. Once you can implement that, then compare with original"
   ]
  },
  {
   "cell_type": "markdown",
   "id": "0e74a5e6",
   "metadata": {},
   "source": [
    "In this notebook we are just going to be looking at a small and simple gravity simulation with three point masses. This is just an experiment into physical simulations so its nothing fancy. Infact it uses the worst updating algorithm, of just following each particle and updating its positions/interactions on every iteration. Very computationally heavy, but that isnt the purpose of this notebook. I intend to look into optimized designs in the future but this is more of a proof of concept notebook."
   ]
  },
  {
   "cell_type": "code",
   "execution_count": 3,
   "id": "108fe62f",
   "metadata": {},
   "outputs": [],
   "source": [
    "# Run this line below into the console while in the directory of where the images will be saved.\n",
    "\n",
    "# ffmpeg -start_number 0 -framerate 60 -i graph%01d.png video.webm"
   ]
  },
  {
   "cell_type": "code",
   "execution_count": 4,
   "id": "dc89a356",
   "metadata": {},
   "outputs": [],
   "source": [
    "import numpy as np\n",
    "import matplotlib.pyplot as plt\n",
    "import math\n",
    "import cmath\n",
    "import decimal\n",
    "import os\n",
    "import sys\n",
    "import time"
   ]
  },
  {
   "cell_type": "code",
   "execution_count": 5,
   "id": "6db5b9eb",
   "metadata": {},
   "outputs": [],
   "source": [
    "# We have this cell here to call the dataAnalysisLibrary module from one place rather than copy pasting into many other places\n",
    "# The path here is my own path, will need to change it for whoever is using\n",
    "# Want to find a way to do this automatically so the reader doesnt have to worry about it\n",
    "# I really need to generalize this...\n",
    "\n",
    "sys.path.insert(0,'./simulationLibrary')\n",
    "import simulationLibrary as sim"
   ]
  },
  {
   "cell_type": "markdown",
   "id": "9c23e1a9",
   "metadata": {},
   "source": [
    "Now lets try to rewrite everything so that we can generalize and produce randomly sized and spaced bodies. That would be the goal, to just run 'gravitySim()' and let it go, you know?"
   ]
  },
  {
   "cell_type": "code",
   "execution_count": 5,
   "id": "ea5b386c",
   "metadata": {},
   "outputs": [],
   "source": [
    "sim.gravitySimulation(numParticles = 20, numFrames = 250, clean=True)"
   ]
  },
  {
   "cell_type": "code",
   "execution_count": 6,
   "id": "dda0e80c",
   "metadata": {},
   "outputs": [],
   "source": [
    "timeArray = np.array([  7.80446482,   8.27741599,   8.8015027 ,   8.92677593,\n",
    "         9.24045205,   9.90946746,  10.16627049,   9.81162167,\n",
    "        11.43102169,  12.24573469,  11.25379276,  11.46036696,\n",
    "        13.66306639,  12.29544067,  14.83429813,  13.07281256,\n",
    "        13.54059386,  17.04186893,  14.97750044,  14.72370481,\n",
    "        15.64790773,  19.12566614,  15.81220317,  17.18706083,\n",
    "        16.56432557,  21.72000146,  17.5169332 ,  17.60667491,\n",
    "        18.12724209,  18.48997831,  19.12640953,  25.22608876,\n",
    "        19.74298263,  20.6413331 ,  20.60941815,  21.15631461,\n",
    "        29.21979666,  22.72543764,  22.99953818,  23.58451724,\n",
    "        24.61097813,  25.05568933,  24.75226045,  34.75182986,\n",
    "        26.50055575,  26.06648183,  27.36986852,  29.9988203 ,\n",
    "        29.09888911,  29.76648569,  29.86663651,  42.94832134,\n",
    "        30.62651157,  30.99895477,  32.02199841,  32.44568896,\n",
    "        32.70746946,  33.74574614,  33.61452842,  49.5013082 ,\n",
    "        35.21585178,  35.54047203,  35.1264782 ,  36.95036077,\n",
    "        36.47128773,  37.70188475,  37.68711424,  39.03866458,\n",
    "        37.98228002,  59.10153651,  39.74072504,  41.61395144,\n",
    "        40.78935933,  42.40180254,  43.4589591 ,  41.68976259,\n",
    "        43.18684864,  43.42161131,  45.2848134 ,  43.50387216,\n",
    "       105.19278741,  46.33233762,  47.2322526 ,  47.7939682 ,\n",
    "        49.83375311,  48.85447216,  50.26118779,  54.37615824,\n",
    "        52.16631675,  55.19746542,  52.13811874,  51.46402574,\n",
    "        52.80079126, 190.49251437,  53.83967423,  55.59585714,\n",
    "        56.24787474,  56.46714664])"
   ]
  },
  {
   "cell_type": "markdown",
   "id": "ca746a95",
   "metadata": {},
   "source": [
    "### One large mass traveling in a swarm of small masses"
   ]
  },
  {
   "cell_type": "code",
   "execution_count": 10,
   "id": "5adff406",
   "metadata": {
    "scrolled": true
   },
   "outputs": [],
   "source": [
    "bodies = np.zeros(50,dtype='object')\n",
    "for i in range(len(bodies)-1):\n",
    "    bodies[i]=sim.randParticleGravity(1*10**6,1*10*4,15,0.1)"
   ]
  },
  {
   "cell_type": "code",
   "execution_count": 17,
   "id": "271701fe",
   "metadata": {},
   "outputs": [],
   "source": [
    "bodies[len(bodies)-1]=sim.PointMassBody(1*10**15, np.array([-80,0]),np.array([15,0]), np.array([0,0]))"
   ]
  },
  {
   "cell_type": "code",
   "execution_count": null,
   "id": "66a601ca",
   "metadata": {},
   "outputs": [],
   "source": [
    "# Only need one large body and the rest small\n",
    "# initialize an object array of whatever size and set the last element to be the heavy object\n",
    "bodies = np.zeros(100,dtype='object')\n",
    "for i in range(len(bodies)-1):\n",
    "    bodies[i]=sim.randParticleGravity(1*10**6,1*10*4,20,0.1)\n",
    "    \n",
    "bodies[len(bodies)-1]=sim.PointMassBody(1*10**20, np.array([-80,0]),np.array([15,0]), np.array([0,0]))\n",
    "\n",
    "# Run the simulation with desired 'bodies' variable\n",
    "sim.gravitySimulation(kind='custom',bod=bodies,numFrames=750)"
   ]
  },
  {
   "cell_type": "code",
   "execution_count": null,
   "id": "82e2e0b7",
   "metadata": {},
   "outputs": [],
   "source": []
  }
 ],
 "metadata": {
  "kernelspec": {
   "display_name": "Python 3 (ipykernel)",
   "language": "python",
   "name": "python3"
  },
  "language_info": {
   "codemirror_mode": {
    "name": "ipython",
    "version": 3
   },
   "file_extension": ".py",
   "mimetype": "text/x-python",
   "name": "python",
   "nbconvert_exporter": "python",
   "pygments_lexer": "ipython3",
   "version": "3.9.13"
  }
 },
 "nbformat": 4,
 "nbformat_minor": 5
}
