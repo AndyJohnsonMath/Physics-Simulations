{
 "cells": [
  {
   "cell_type": "code",
   "execution_count": 1,
   "id": "ee67e99e",
   "metadata": {},
   "outputs": [],
   "source": [
    "# Plans for the future:\n",
    "#      -Add in a grid pattern\n",
    "#      -Add in a circular pattern + noise to see if it forms a ring around a planetary body\n",
    "#      -Add in stationary masses\n",
    "#      -Record times\n",
    "# Add in these features, then start looking at tree methods. Once you can implement that, then compare with original"
   ]
  },
  {
   "cell_type": "markdown",
   "id": "0e74a5e6",
   "metadata": {},
   "source": [
    "In this notebook we are just going to be looking at a small and simple gravity simulation with three point masses. This is just an experiment into physical simulations so its nothing fancy. Infact it uses the worst updating algorithm, of just following each particle and updating its positions/interactions on every iteration. Very computationally heavy, but that isnt the purpose of this notebook. I intend to look into optimized designs in the future but this is more of a proof of concept notebook."
   ]
  },
  {
   "cell_type": "code",
   "execution_count": 2,
   "id": "108fe62f",
   "metadata": {},
   "outputs": [],
   "source": [
    "# Run this line below into the console while in the directory of where the images will be saved.\n",
    "\n",
    "# ffmpeg -start_number 0 -framerate 60 -i graph%01d.png video.webm"
   ]
  },
  {
   "cell_type": "code",
   "execution_count": 3,
   "id": "dc89a356",
   "metadata": {},
   "outputs": [],
   "source": [
    "import numpy as np\n",
    "import matplotlib.pyplot as plt\n",
    "import math\n",
    "import cmath\n",
    "import decimal\n",
    "import os\n",
    "import sys\n",
    "import time"
   ]
  },
  {
   "cell_type": "code",
   "execution_count": 4,
   "id": "6db5b9eb",
   "metadata": {},
   "outputs": [],
   "source": [
    "# We have this cell here to call the dataAnalysisLibrary module from one place rather than copy pasting into many other places\n",
    "# The path here is my own path, will need to change it for whoever is using\n",
    "# Want to find a way to do this automatically so the reader doesnt have to worry about it\n",
    "# I really need to generalize this...\n",
    "\n",
    "sys.path.insert(0,'./simulationLibrary')\n",
    "import simulationLibrary as sim"
   ]
  },
  {
   "cell_type": "markdown",
   "id": "9c23e1a9",
   "metadata": {},
   "source": [
    "Now lets try to rewrite everything so that we can generalize and produce randomly sized and spaced bodies. That would be the goal, to just run 'gravitySim()' and let it go, you know?"
   ]
  },
  {
   "cell_type": "code",
   "execution_count": 3,
   "id": "4759d893",
   "metadata": {},
   "outputs": [],
   "source": [
    "# The gravitational body in question\n",
    "# creates an instance of a gravitational point mass.\n",
    "# position, velocity and acceleration should all be 1x2 arrays\n",
    "class PointMassBody:\n",
    "    def __init__(self,mass,position,velocity,acceleration):\n",
    "        self.mass = mass\n",
    "        self.position = position\n",
    "        self.velocity = velocity\n",
    "        self.acceleration = acceleration\n",
    "        self.path = np.array([position])"
   ]
  },
  {
   "cell_type": "code",
   "execution_count": 4,
   "id": "85fe3786",
   "metadata": {},
   "outputs": [],
   "source": [
    "def randParticleGravity():\n",
    "    #Declare randomly assigned mass\n",
    "    mass = np.random.normal(loc=1*10**12,scale=100000000000)\n",
    "    \n",
    "    #Declare randomly assigned positions and make sure it doesnt go out of bounds\n",
    "    posx = np.random.normal(scale=5)\n",
    "    posy = np.random.normal(scale=5)\n",
    "    if posx >= 30:\n",
    "        posx = 30\n",
    "    if posy >= 30:\n",
    "        posy = 30\n",
    "    position = np.array([posx,posy])\n",
    "    \n",
    "    #Declare randomly assigned positions and make sure it doesnt go out of bounds\n",
    "    velx = np.random.normal(scale=0.2)\n",
    "    vely = np.random.normal(scale=0.2)\n",
    "    velocity = np.array([velx,vely])\n",
    "\n",
    "    #Generate and return the particle\n",
    "    particle = PointMassBody(mass,position,velocity,np.array([0,0]))\n",
    "    return(particle)"
   ]
  },
  {
   "cell_type": "code",
   "execution_count": 5,
   "id": "2edd1954",
   "metadata": {},
   "outputs": [],
   "source": [
    "def generateParticles(num):\n",
    "    pointMassArray=np.zeros(num,dtype='object')\n",
    "    for i in range(len(pointMassArray)):\n",
    "        pointMassArray[i]=randParticleGravity()\n",
    "    return(pointMassArray)"
   ]
  },
  {
   "cell_type": "code",
   "execution_count": 6,
   "id": "80ab492a",
   "metadata": {},
   "outputs": [],
   "source": [
    "def calculateGravity(obj1,obj2):\n",
    "    G = 6.674*pow(10,-11)\n",
    "    F12Hat = (obj2.position-obj1.position)/np.linalg.norm(obj2.position-obj1.position)\n",
    "    F12 = ((G*obj1.mass*obj2.mass)/pow(np.linalg.norm(obj2.position-obj1.position),2))*F12Hat\n",
    "    return(F12)"
   ]
  },
  {
   "cell_type": "code",
   "execution_count": 7,
   "id": "845c7363",
   "metadata": {},
   "outputs": [],
   "source": [
    "def update(objects,dt=1/30):\n",
    "\n",
    "    # Initialize a 'force matrix', populate it with the forces of the corresponding index. So, at poition (i,j) is F_ij\n",
    "    forceMatrix=np.zeros((len(bodies),len(bodies),2))\n",
    "    for j in range(len(bodies)):\n",
    "        for i in range(len(bodies)):\n",
    "            if i == j:\n",
    "                forceMatrix[i][j]=0\n",
    "            else:\n",
    "                forceMatrix[i][j]=calculateGravity(bodies[i],bodies[j])\n",
    "    \n",
    "    # Calculate Total Forces\n",
    "    totForceArray = np.zeros((len(objects),2))\n",
    "    acceleration = np.zeros((len(objects),2))\n",
    "    for i in range(len(objects)):\n",
    "        totForceArray[i]=forceMatrix[i].sum(axis=0)\n",
    "        acceleration[i]=(1/objects[i].mass)*totForceArray[i]\n",
    "        objects[i].acceleration = acceleration[i]\n",
    "        objects[i].velocity = objects[i].velocity+(objects[i].acceleration*dt)\n",
    "        objects[i].position = objects[i].position+(objects[i].velocity*dt)"
   ]
  },
  {
   "cell_type": "code",
   "execution_count": 8,
   "id": "75bfcb87",
   "metadata": {},
   "outputs": [],
   "source": [
    "def update(bodies,dt=1/30):\n",
    "\n",
    "# Initialize a force matrix, populate it with the forces of the corresponding index. So, at poition (i,j) is Fij\n",
    "    forceMatrix=np.zeros((len(bodies),len(bodies),2))\n",
    "    for j in range(len(bodies)):\n",
    "        for i in range(len(bodies)):\n",
    "            if i == j:\n",
    "                forceMatrix[i][j]=0\n",
    "            else:\n",
    "                forceMatrix[i][j]=calculateGravity(bodies[i],bodies[j])\n",
    "    \n",
    "    # Calculate Total Forces\n",
    "    totForceArray = np.zeros((len(bodies),2))\n",
    "    acceleration = np.zeros((len(bodies),2))\n",
    "    for i in range(len(bodies)):\n",
    "        totForceArray[i]=forceMatrix[i].sum(axis=0)\n",
    "        acceleration[i]=(1/bodies[i].mass)*totForceArray[i]\n",
    "        bodies[i].acceleration = acceleration[i]\n",
    "        bodies[i].velocity = bodies[i].velocity+(bodies[i].acceleration*dt)\n",
    "        bodies[i].position = bodies[i].position+(bodies[i].velocity*dt)"
   ]
  },
  {
   "cell_type": "code",
   "execution_count": 57,
   "id": "9c306696",
   "metadata": {},
   "outputs": [],
   "source": [
    "def gravitySimulation(numParticles = 10, kind='random', numFrames=500, clean=False):\n",
    "    \"\"\"\n",
    "    Description\n",
    "    -----------\n",
    "    Runs an entire gravity simulation by generating frames and saving them to the essential 'Images for Simulation' folder. \n",
    "\n",
    "    Parameters\n",
    "    ----------\n",
    "    numParticles : int\n",
    "        Number of particles in the simulation. Default is 10 point mass bodies.\n",
    "    kind : string\n",
    "       Parameter that determines the kind of gravity simultion.\n",
    "       Current support for:\n",
    "           -'random': A random selection of point masses selected Gaussianly. Default Value\n",
    "           -'polygonal': symmetrically distributed identical point masses. Must be hardcoded in\n",
    "           -'grid': Point Masses are initialized at fixed intervals in a square grid pattern. However, because of this, the numParticles argument has to be a perfect square\n",
    "    numframes : int\n",
    "       Length of simulation. Default is 500.\n",
    "    clean : Boolean True or False\n",
    "        clean True gives\n",
    "\n",
    "    Returns\n",
    "    -------\n",
    "    Nothing. But! This function does fill your 'Images for Simulation' folder that is essential for this function to work.\n",
    "    Its these images that you run the ffmpeg command on\n",
    "    \"\"\"\n",
    "    #The path below should be the path that YOU are saving every frame to. I didnt want to provide my personal one, so unfortunately this is the one thing you will have to do yourself\n",
    "    dir = './Images for simulation'\n",
    "\n",
    "    for f in os.listdir(dir):\n",
    "        os.remove(os.path.join(dir, f))\n",
    "    \n",
    "    #Determine the style of simulation\n",
    "    if kind=='grid'\n",
    "    if kind=='polygonal':\n",
    "        bodies = np.zeros(numParticles,dtype='object')\n",
    "        for i in range(numParticles):\n",
    "            bodies[i]=PointMassBody(1*10**12.5,np.array([0,0]),np.array([0,0]),np.array([0,0]))\n",
    "            bodies[i].position=np.array([6*np.cos((2*np.pi/numParticles)*i),6*np.sin((2*np.pi/numParticles)*i)])\n",
    "            bodies[i].velocity=np.array([6*(-1)*np.sin((2*np.pi/numParticles)*i),6*np.cos((2*np.pi/numParticles)*i)])\n",
    "    else:\n",
    "        bodies = generateParticles(numParticles)\n",
    "\n",
    "    # Calculate the force between each every body and every other body\n",
    "    #Start the main loop\n",
    "    for i in range(numFrames):\n",
    "        figure, axes = plt.subplots()\n",
    "        update(bodies,dt=1/120)\n",
    "\n",
    "        for j in range(len(bodies)):\n",
    "            axes.scatter(bodies[j].position[0], bodies[j].position[1])\n",
    "\n",
    "        if clean == True:\n",
    "            plt.grid(None)\n",
    "            plt.axis('off')\n",
    "        else:\n",
    "            pass\n",
    "        axes.set_aspect(1)\n",
    "        plt.xlim(-10,10)\n",
    "        plt.ylim(-10,10)\n",
    "\n",
    "        figure.savefig('./Images for simulation/graph'+str(i)+'.png', dpi=300)\n",
    "        plt.close('all')"
   ]
  },
  {
   "cell_type": "code",
   "execution_count": null,
   "id": "d4b00376",
   "metadata": {
    "scrolled": true
   },
   "outputs": [],
   "source": [
    "# This cell runs gravitySimulation multiple times but with an increasing number of bodies up to 100 frames and stores the time it takes to run in an array to see just how bad it is to increase the body size. Can we see an n^2 curve?\n",
    "\n",
    "# timeArray = np.array([])\n",
    "# for i in range(148):\n",
    "#     start = time.time()\n",
    "#     sim.gravitySimulation(numParticles=(i+2))\n",
    "#     end=time.time()\n",
    "#     tot = end-start\n",
    "#     timeArray = np.append(timeArray,tot)"
   ]
  },
  {
   "cell_type": "code",
   "execution_count": 36,
   "id": "dda0e80c",
   "metadata": {},
   "outputs": [],
   "source": [
    "timeArray = np.array([  7.80446482,   8.27741599,   8.8015027 ,   8.92677593,\n",
    "         9.24045205,   9.90946746,  10.16627049,   9.81162167,\n",
    "        11.43102169,  12.24573469,  11.25379276,  11.46036696,\n",
    "        13.66306639,  12.29544067,  14.83429813,  13.07281256,\n",
    "        13.54059386,  17.04186893,  14.97750044,  14.72370481,\n",
    "        15.64790773,  19.12566614,  15.81220317,  17.18706083,\n",
    "        16.56432557,  21.72000146,  17.5169332 ,  17.60667491,\n",
    "        18.12724209,  18.48997831,  19.12640953,  25.22608876,\n",
    "        19.74298263,  20.6413331 ,  20.60941815,  21.15631461,\n",
    "        29.21979666,  22.72543764,  22.99953818,  23.58451724,\n",
    "        24.61097813,  25.05568933,  24.75226045,  34.75182986,\n",
    "        26.50055575,  26.06648183,  27.36986852,  29.9988203 ,\n",
    "        29.09888911,  29.76648569,  29.86663651,  42.94832134,\n",
    "        30.62651157,  30.99895477,  32.02199841,  32.44568896,\n",
    "        32.70746946,  33.74574614,  33.61452842,  49.5013082 ,\n",
    "        35.21585178,  35.54047203,  35.1264782 ,  36.95036077,\n",
    "        36.47128773,  37.70188475,  37.68711424,  39.03866458,\n",
    "        37.98228002,  59.10153651,  39.74072504,  41.61395144,\n",
    "        40.78935933,  42.40180254,  43.4589591 ,  41.68976259,\n",
    "        43.18684864,  43.42161131,  45.2848134 ,  43.50387216,\n",
    "       105.19278741,  46.33233762,  47.2322526 ,  47.7939682 ,\n",
    "        49.83375311,  48.85447216,  50.26118779,  54.37615824,\n",
    "        52.16631675,  55.19746542,  52.13811874,  51.46402574,\n",
    "        52.80079126, 190.49251437,  53.83967423,  55.59585714,\n",
    "        56.24787474,  56.46714664])"
   ]
  },
  {
   "cell_type": "code",
   "execution_count": null,
   "id": "79f9e2c9",
   "metadata": {},
   "outputs": [],
   "source": []
  }
 ],
 "metadata": {
  "kernelspec": {
   "display_name": "Python 3 (ipykernel)",
   "language": "python",
   "name": "python3"
  },
  "language_info": {
   "codemirror_mode": {
    "name": "ipython",
    "version": 3
   },
   "file_extension": ".py",
   "mimetype": "text/x-python",
   "name": "python",
   "nbconvert_exporter": "python",
   "pygments_lexer": "ipython3",
   "version": "3.9.6"
  }
 },
 "nbformat": 4,
 "nbformat_minor": 5
}
