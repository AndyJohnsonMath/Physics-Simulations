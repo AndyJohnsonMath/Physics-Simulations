{
 "cells": [
  {
   "cell_type": "markdown",
   "id": "53b29c20",
   "metadata": {},
   "source": [
    "In this notebook we will try to be creating a molecular dynamics simulation, as always, from scratch. The big idea with this comes from the equation relating force with potential energy, which is\n",
    "$$\n",
    "F=-\\nabla U(r).\n",
    "$$"
   ]
  },
  {
   "cell_type": "code",
   "execution_count": 1,
   "id": "4c8b44b2",
   "metadata": {},
   "outputs": [],
   "source": [
    "import numpy as np\n",
    "import matplotlib.pyplot as plt\n",
    "import math\n",
    "import cmath\n",
    "import decimal\n",
    "import os\n",
    "import sys\n",
    "import time"
   ]
  },
  {
   "cell_type": "code",
   "execution_count": 4,
   "id": "e36392d8",
   "metadata": {},
   "outputs": [],
   "source": [
    "sys.path.insert(0,'./Code')\n",
    "import simulationLibrary as sim"
   ]
  },
  {
   "cell_type": "code",
   "execution_count": 7,
   "id": "55aeaabe",
   "metadata": {},
   "outputs": [],
   "source": [
    "def lennardJonesPotential(r,epsilon,sigma):\n",
    "    \"\"\"\n",
    "    Description\n",
    "    -----------\n",
    "    Classic function definition of the Lennard-Jones Potential.\n",
    "\n",
    "    Parameters\n",
    "    ----------\n",
    "    r : float\n",
    "       Distance from current position to position of interest.\n",
    "    epsilon, sigma : float\n",
    "       Parameters defining the Lnnard-Jones potential.\n",
    "\n",
    "    Returns \n",
    "    -------\n",
    "    The potential force between the two objects in question\n",
    "    \"\"\"\n",
    "    return(4*epsilon*((sigma/r)**12-(sigma/r)**6))"
   ]
  },
  {
   "cell_type": "code",
   "execution_count": 14,
   "id": "f8ae14a0",
   "metadata": {},
   "outputs": [],
   "source": [
    "atom1 = sim.PointMassBody(1, np.array([-1,0]), np.array([1,0]), np.array([0,0]))\n",
    "atom2 = sim.PointMassBody(1, np.array([1,0]), np.array([-1,0]), np.array([0,0]))\n",
    "\n",
    "initialPos = np.array([atom1.position, atom2.position])\n",
    "initialvel = np.array([atom1.velocity, atom2.velocity])"
   ]
  },
  {
   "cell_type": "code",
   "execution_count": null,
   "id": "5f477788",
   "metadata": {},
   "outputs": [],
   "source": []
  }
 ],
 "metadata": {
  "kernelspec": {
   "display_name": "Python 3 (ipykernel)",
   "language": "python",
   "name": "python3"
  },
  "language_info": {
   "codemirror_mode": {
    "name": "ipython",
    "version": 3
   },
   "file_extension": ".py",
   "mimetype": "text/x-python",
   "name": "python",
   "nbconvert_exporter": "python",
   "pygments_lexer": "ipython3",
   "version": "3.9.6"
  }
 },
 "nbformat": 4,
 "nbformat_minor": 5
}
