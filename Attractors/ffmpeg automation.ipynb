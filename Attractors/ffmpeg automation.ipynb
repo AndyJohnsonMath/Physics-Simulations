{
 "cells": [
  {
   "cell_type": "code",
   "execution_count": 3,
   "id": "6774280e-5c06-4d90-94c2-59e237c6a603",
   "metadata": {},
   "outputs": [],
   "source": [
    "import subprocess\n",
    "import os"
   ]
  },
  {
   "cell_type": "code",
   "execution_count": 10,
   "id": "0ffc77d2-6ad1-4dbc-8de3-0879f2f354d8",
   "metadata": {},
   "outputs": [
    {
     "name": "stdout",
     "output_type": "stream",
     "text": [
      "../Images for Simulation\\video.webm does not exist\n"
     ]
    },
    {
     "data": {
      "text/plain": [
       "0"
      ]
     },
     "execution_count": 10,
     "metadata": {},
     "output_type": "execute_result"
    }
   ],
   "source": [
    "target_directory = \"../Images for Simulation\"\n",
    "file_to_delete = \"video.webm\"\n",
    "os.chdir(target_directory)\n",
    "file_path = os.path.join(target_directory, file_to_delete)\n",
    "if os.path.exists(file_path):\n",
    "    os.remove(file_path)\n",
    "    print(f\"Deleted {file_path}\")\n",
    "else:\n",
    "    print(f\"{file_path} does not exist\")\n",
    "\n",
    "command = 'ffmpeg -start_number 0 -framerate 60 -i graph%01d.png -vf \"scale=1280:720\" video.webm'\n",
    "os.system(command)"
   ]
  },
  {
   "cell_type": "code",
   "execution_count": 1,
   "id": "a08f08e1-7bfe-48b0-ab71-c38727a0690e",
   "metadata": {},
   "outputs": [],
   "source": [
    "def renderVideo():\n",
    "    target_directory = \"../Images for Simulation\"\n",
    "    file_to_delete = \"video.webm\"\n",
    "    os.chdir(target_directory)\n",
    "    file_path = os.path.join(target_directory, file_to_delete)\n",
    "    if os.path.exists(file_path):\n",
    "        os.remove(file_path)\n",
    "        print(f\"Deleted {file_path}\")\n",
    "    else:\n",
    "        print(f\"{file_path} does not exist\")\n",
    "    \n",
    "    command = 'ffmpeg -start_number 0 -framerate 60 -i graph%01d.png -vf \"scale=1280:720\" video.webm'\n",
    "    os.system(command)"
   ]
  },
  {
   "cell_type": "code",
   "execution_count": null,
   "id": "66c535a7-9708-40b7-8329-42a382cf7fc9",
   "metadata": {},
   "outputs": [],
   "source": []
  }
 ],
 "metadata": {
  "kernelspec": {
   "display_name": "Python 3 (ipykernel)",
   "language": "python",
   "name": "python3"
  },
  "language_info": {
   "codemirror_mode": {
    "name": "ipython",
    "version": 3
   },
   "file_extension": ".py",
   "mimetype": "text/x-python",
   "name": "python",
   "nbconvert_exporter": "python",
   "pygments_lexer": "ipython3",
   "version": "3.9.13"
  }
 },
 "nbformat": 4,
 "nbformat_minor": 5
}
