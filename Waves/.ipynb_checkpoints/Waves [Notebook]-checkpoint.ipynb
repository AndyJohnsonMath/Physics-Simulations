{
 "cells": [
  {
   "cell_type": "code",
   "execution_count": 1,
   "id": "378eca54-7ddf-4c93-b852-09f862daac75",
   "metadata": {},
   "outputs": [],
   "source": [
    "# Run this line below into the console while in the directory of where the images will be saved.\n",
    "\n",
    "# ffmpeg -start_number 0 -framerate 60 -i graph%01d.png video.webm"
   ]
  },
  {
   "cell_type": "markdown",
   "id": "36828cde",
   "metadata": {},
   "source": [
    "In this notebook we want to lookd a few different numerical wave phenomenon. I just think waves are cool and PDEs are some of my favorite structures in all of mathematics. That being said, I ultimately want to make some wave simulations under a few different constraints. My big goals are as follows:\n",
    "- Create a basic 2D wave progpogation simulation\n",
    "- Create a similar sort of equation for Schrodinger equation\n",
    "- Create a 3D wave simulation"
   ]
  },
  {
   "cell_type": "code",
   "execution_count": 2,
   "id": "6ef21a22-1fd6-4dae-892d-6c5d74b3a7e8",
   "metadata": {},
   "outputs": [],
   "source": [
    "import matplotlib.pyplot as plt\n",
    "import numpy as np\n",
    "import os\n",
    "import sys\n",
    "from matplotlib import cm\n",
    "from matplotlib.animation import FuncAnimation\n",
    "import matplotlib as mpl\n",
    "from tqdm import tqdm"
   ]
  },
  {
   "cell_type": "code",
   "execution_count": 3,
   "id": "08c81005-cb26-48c2-a76f-95c240007dd9",
   "metadata": {},
   "outputs": [],
   "source": [
    "#We have this cell here to call the dataAnalysisLibrary module from one place rather than copy pasting into many other places\n",
    "# the ../ means one directory back, which is, so this should fix pathing problems moving forward\n",
    "\n",
    "sys.path.insert(0,'../Code/')\n",
    "import simulationLibrary as sim"
   ]
  },
  {
   "cell_type": "code",
   "execution_count": 6,
   "id": "f1dba333-121a-47d8-8cb2-fc63ae937a0d",
   "metadata": {},
   "outputs": [],
   "source": [
    "sim.clearDirectory()"
   ]
  },
  {
   "cell_type": "markdown",
   "id": "f1c40a58",
   "metadata": {},
   "source": [
    "# Basic Wave Simulation"
   ]
  },
  {
   "cell_type": "markdown",
   "id": "b47826f3",
   "metadata": {},
   "source": [
    "To remind ourselves, the basic wave equation is $\\frac{\\partial^2 u}{\\partial t^2}=c^2\\nabla^2 u$. This is the generalized wave equation for multiple dimensions, for a 2d eq we simply need to reduce it down to break down that laplacian operator and we will get the simple wave equation $\\frac{\\partial^2 u}{\\partial t^2} = c^2 \\frac{\\partial^2 u}{\\partial x^2}$. Why the partials, you might ask? Well that is because out position function, $u$, is a function of two variables, namely position and time. That is, $u$ is secretly $u(x,t)$ under the hood. When $t=0$ then we $u$ becomes $u(x,0)$, or, more compactly, just $u(x)$. THIS is just a curve! A 2D curve, specifically. A cross section of the wave at a certain time, specifically at our starting time $t=0$. If we advance time to anything else, then the wave should also change (It doesnt have to change, but the purposes of modeling a physical system it probably should, so moving forward we should be expecting this sort of thing). So, thus $u(x,t)$ is a function of curves, varied by space and time, that contains all the information of the wave that we want to get. That is why we are dealing with partial derivatives here. And since we are dealing with partial derivatives, how can we actually turn this into a numerical scheme that we can computer on a computer?\n",
    "\n",
    "This question takes us to the realm of numerical analysis. Numerical analysis' entire existence is based upon approximating smooth curves and other sort of numerical algorithms. What do I mean by \"numerical algorithms\" or just \"numerical\" in general? Well, as with all words, it depends on the context. In a mathematical sense, numerical means approximation. So if you hear the term \"Numerical methods\" you can replace it in your mind with \"approximate methods\". This field is required for things that have no analytical solution, that is something that cant be explicitly solved with pen an paper. Mostly everything in nonanalytical so numerical methods are everywhere. We will be using a few things from numerical methods in this. The first thing is to find out how to represent our wave equation in a way that our computer can process. We can do this using finite difference methods for partial derivatives. Ignoring the derivation of it and going off a \"trust me\" sort of thing, this is the finite difference approximation for a second order partial derivative. Let $u(x,t)$ be our mutlivariate function and lets approximate it at a specific point, that is at $x_0$ and $t_0$\n",
    "\n",
    "$$\n",
    "\\frac{\\partial^2 u}{\\partial x^2}(x_0,t_0) \\approx \\frac{u(x_0+\\Delta x,t_0)-2u(x_0,t_0)+f(x_0-\\Delta x,t_0)}{(\\Delta x)^2}.\n",
    "$$\n",
    "\n",
    "This is nice, but unfortunately the field of partial differential calculus loves to use many different forms of notation for the same thing. Because of this we are gonna have to use some other notation that im not entirely fond of due to its non-ituitiveness, but alas here we are! Anyways, the notation is this:\n",
    "\n",
    "$$\n",
    "u^{(m)}_j=\\tilde{u}(x_j,t_m)\n",
    "$$\n",
    "\n",
    "Where $\\tilde{u}$ is the approximation of $u$ at time $t_m$ and position $x_j$. You know what? Looking back at this notation, its not that bad. I still have some problems with it, but I may have been a little hasty in my analysis of it. The approximation in this case is the central finite difference approximation that was stated up above. Using this notation, lets refine our central finite difference notation and clean up our equations a little bit using this new notation.\n",
    "\n",
    "*********NOW INTRODUCTING A NEW NOTATION*********\n",
    "\n",
    "We are going to derive a difference-equation method to compute approximations $\\{u_{i,j}:i=1,2,...,n\\}$ in successive rows for $j=2,3,...,m$\n",
    "\n",
    "Replacing the double derivatives in the original wave equation with these new approximations gives us\n",
    "\n",
    "$$\n",
    "\\frac{u_{i,j+1}-2u_{i,j}+u_{i,j-1}}{k^2}=c^2\\frac{u_{i+1,j}-2u_{i,j}+u_{i-1,j}}{h^2}\n",
    "$$\n",
    "\n",
    "And, for ease, lets say $r=\\frac{ck}{h}$, then our equation simplifies down to\n",
    "\n",
    "$$\n",
    "u_{i,j+1}-2u_{i,j}+u_{i,j-1}=r^2(u_{i+1,j}-2u_{i,j}+u_{i-1,j})\n",
    "$$\n",
    "\n",
    "Now solve for $u_{i,j+1}$\n",
    "\n",
    "$$\n",
    "u_{i,j+1}=(2-2r^2)u_{i,j}+r^2(u_{i+1,j}+u_{i-1,j})-u_{i,j-1}\n",
    "$$\n",
    "\n",
    "We will start at the bottom row, where $t=t_1=0$ and the solution is known to be $u(x_i,t_1)=u(x_i,0)=f(x_i)$ (aka its the initial condition). So, the true solution value at the mesh points of our grid is $u(x_i,t_j)$"
   ]
  },
  {
   "cell_type": "code",
   "execution_count": 7,
   "id": "00f9e8c6-d53e-488c-af38-dbfc01d39fc7",
   "metadata": {},
   "outputs": [],
   "source": [
    "def func(x):\n",
    "    return(x*((2*np.pi)-x))"
   ]
  },
  {
   "cell_type": "code",
   "execution_count": 8,
   "id": "2678ab25-3bff-4518-8397-291652ecc75d",
   "metadata": {},
   "outputs": [],
   "source": [
    "def gaussianDistribution(x, mean, std_dev):\n",
    "    coefficient = 1 / (std_dev * np.sqrt(2 * np.pi))\n",
    "    exponent = -((x - mean) ** 2) / (2 * std_dev ** 2)\n",
    "    return(coefficient * np.exp(exponent))"
   ]
  },
  {
   "cell_type": "markdown",
   "id": "b18b6466-574c-4ac2-9136-b776d648bc71",
   "metadata": {},
   "source": [
    "# Traditional Wave Equation"
   ]
  },
  {
   "cell_type": "code",
   "execution_count": 43,
   "id": "23a45fe0-2bba-413f-9421-0b9f95a0be76",
   "metadata": {},
   "outputs": [],
   "source": [
    "def waveSimulation(initialFunc, c=1, length=1, totalTime=5, Nx=200, Nt=1000):\n",
    "    # Lets create a meshed function\n",
    "    length = length\n",
    "    c=c\n",
    "    totalTime = totalTime\n",
    "    Nx = Nx # x axis\n",
    "    Nt = Nt # t axis\n",
    "    deltax = length/(Nx-1) # THIS IS THE IMPORTANT LINE OR ELSE IT BLOWS UP!!!!!!!!!!!!!!!!!!!! I HAVE NO CLUE WHY THAT -1 NEEDS TO BE THERE BUT IT DOES OR EVERYTHING GOES TO SHIT\n",
    "    deltat = totalTime/Nt\n",
    "    C=c*(deltat/deltax)\n",
    "    if C >=1 :\n",
    "        print(\"C is greater than 1. C=\"+str(C))\n",
    "        sys.exit(1)\n",
    "    \n",
    "    x=np.linspace(0,length,Nx)\n",
    "    t=np.linspace(0,totalTime, Nt)\n",
    "    \n",
    "    u=np.zeros((Nt, Nx))\n",
    "    u[0]=initialFunc(x)\n",
    "    u[1]=u[0]\n",
    "    for n in tqdm(range(1,Nt-1)):\n",
    "        for i in range(1,Nx-1): # All interior points\n",
    "            u[n+1,i]=(2 * (1 - C**2) * u[n, i] - u[n - 1, i] + C**2 * (u[n, i + 1] + u[n, i - 1]))\n",
    "\n",
    "    sim.clearDirectory()\n",
    "    for i in tqdm(range(Nt)):\n",
    "        plt.plot(u[i])\n",
    "        plt.xlim(0,Nx)\n",
    "        plt.ylim(-5,5)\n",
    "        plt.savefig('../..//Physics-Simulations/Images for simulation/graph'+str(i)+'.png') # dpi argument increases resolution\n",
    "        plt.close('all')"
   ]
  },
  {
   "cell_type": "code",
   "execution_count": 49,
   "id": "d6789bc6-007c-4c87-8b28-27c21f4fc34e",
   "metadata": {},
   "outputs": [],
   "source": [
    "sim.clearDirectory()"
   ]
  },
  {
   "cell_type": "markdown",
   "id": "b90d8686-446f-47f9-b1e1-f61cac052c5e",
   "metadata": {},
   "source": [
    "# Damped Wave Equation"
   ]
  },
  {
   "cell_type": "code",
   "execution_count": 42,
   "id": "ffbdeb02-cca7-4647-a0c0-97f4dd7fe582",
   "metadata": {},
   "outputs": [],
   "source": [
    "def gaussianDistribution(x, mean=0.5, std_dev=0.1):\n",
    "    coefficient = 1 / (std_dev * np.sqrt(2 * np.pi))\n",
    "    exponent = -((x - mean) ** 2) / (2 * std_dev ** 2)\n",
    "    return(coefficient * np.exp(exponent))"
   ]
  },
  {
   "cell_type": "code",
   "execution_count": 47,
   "id": "6b01e9e0-f682-4406-8bb8-3da7b6b6664e",
   "metadata": {},
   "outputs": [],
   "source": [
    "def dampedWaveSimulation(initialFunc, c=1, gamma=1, length=1, totalTime=5, Nx=200, Nt=1000):\n",
    "    # Lets create a meshed function\n",
    "    length = length\n",
    "    c=c\n",
    "    gamma = gamma\n",
    "    totalTime = totalTime\n",
    "    Nx = Nx # x axis\n",
    "    Nt = Nt # t axis\n",
    "    deltax = length/(Nx-1) # THIS IS THE IMPORTANT LINE OR ELSE IT BLOWS UP!!!!!!!!!!!!!!!!!!!! I HAVE NO CLUE WHY THAT -1 NEEDS TO BE THERE BUT IT DOES OR EVERYTHING GOES TO SHIT\n",
    "    deltat = totalTime/Nt\n",
    "    C=c*(deltat/deltax)\n",
    "    if C >=1 :\n",
    "        print(\"C is greater than 1. C=\"+str(C))\n",
    "        sys.exit(1)\n",
    "    \n",
    "    x=np.linspace(0,length,Nx)\n",
    "    t=np.linspace(0,totalTime, Nt)\n",
    "    \n",
    "    u_initial = np.exp(-((x - 0.1)**2) / (2 * sigma**2))\n",
    "    v_initial = (A * v * (x - x_0) / sigma**2) * np.exp(-((x - x_0)**2) / (2 * sigma**2))\n",
    "    \n",
    "    u=np.zeros((Nt, Nx))\n",
    "    u[0]=initialFunc(x)\n",
    "    u[1]=u[0]\n",
    "    for n in tqdm(range(1,Nt-1)):\n",
    "        for i in range(1,Nx-1): # All interior points\n",
    "            u[n+1,i]=(1/(1+gamma*deltat))*((2*u[n, i]*(1-gamma*deltat))-(u[n-1,i]*(1-gamma*deltat))+(C**2)*(u[n,i+1]-2*u[n,i]+u[n,i-1]))\n",
    "            \n",
    "    sim.clearDirectory()\n",
    "    for i in tqdm(range(Nt)):\n",
    "        plt.plot(u[i])\n",
    "        plt.xlim(0,Nx)\n",
    "        plt.ylim(-5,5)\n",
    "        plt.savefig('../..//Physics-Simulations/Images for simulation/graph'+str(i)+'.png') # dpi argument increases resolution\n",
    "        plt.close('all')"
   ]
  },
  {
   "cell_type": "code",
   "execution_count": 48,
   "id": "b4c64ef8-9142-4005-8557-86706f382cd0",
   "metadata": {},
   "outputs": [
    {
     "name": "stderr",
     "output_type": "stream",
     "text": [
      "100%|████████████████████████████████████████████████████████████████████████| 998/998 [00:00<00:00, 5975.06it/s]\n",
      "100%|████████████████████████████████████████████████████████████████████████| 1000/1000 [00:39<00:00, 25.10it/s]\n"
     ]
    }
   ],
   "source": [
    "dampedWaveSimulation(gaussianDistribution)"
   ]
  },
  {
   "cell_type": "code",
   "execution_count": null,
   "id": "8d1887d1-5019-4837-9215-04dc77bc19bf",
   "metadata": {},
   "outputs": [],
   "source": []
  }
 ],
 "metadata": {
  "kernelspec": {
   "display_name": "Python 3 (ipykernel)",
   "language": "python",
   "name": "python3"
  },
  "language_info": {
   "codemirror_mode": {
    "name": "ipython",
    "version": 3
   },
   "file_extension": ".py",
   "mimetype": "text/x-python",
   "name": "python",
   "nbconvert_exporter": "python",
   "pygments_lexer": "ipython3",
   "version": "3.9.13"
  }
 },
 "nbformat": 4,
 "nbformat_minor": 5
}
