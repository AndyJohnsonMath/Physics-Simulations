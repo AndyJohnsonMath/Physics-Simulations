{
 "cells": [
  {
   "cell_type": "code",
   "execution_count": 1,
   "id": "378eca54-7ddf-4c93-b852-09f862daac75",
   "metadata": {},
   "outputs": [],
   "source": [
    "# Run this line below into the console while in the directory of where the images will be saved.\n",
    "\n",
    "# ffmpeg -start_number 0 -framerate 60 -i graph%01d.png video.webm"
   ]
  },
  {
   "cell_type": "markdown",
   "id": "36828cde",
   "metadata": {},
   "source": [
    "In this notebook we want to lookd a few different numerical wave phenomenon. I just think waves are cool and PDEs are some of my favorite structures in all of mathematics. That being said, I ultimately want to make some wave simulations under a few different constraints. My big goals are as follows:\n",
    "- Create a basic 2D wave progpogation simulation\n",
    "- Create a similar sort of equation for Schrodinger equation\n",
    "- Create a 3D wave simulation"
   ]
  },
  {
   "cell_type": "code",
   "execution_count": 2,
   "id": "6ef21a22-1fd6-4dae-892d-6c5d74b3a7e8",
   "metadata": {},
   "outputs": [],
   "source": [
    "import matplotlib.pyplot as plt\n",
    "import numpy as np\n",
    "import os\n",
    "import sys\n",
    "from matplotlib import cm\n",
    "from matplotlib.animation import FuncAnimation\n",
    "import matplotlib as mpl\n",
    "from tqdm import tqdm"
   ]
  },
  {
   "cell_type": "code",
   "execution_count": 3,
   "id": "08c81005-cb26-48c2-a76f-95c240007dd9",
   "metadata": {},
   "outputs": [],
   "source": [
    "#We have this cell here to call the dataAnalysisLibrary module from one place rather than copy pasting into many other places\n",
    "# the ../ means one directory back, which is, so this should fix pathing problems moving forward\n",
    "\n",
    "sys.path.insert(0,'../Code/')\n",
    "import simulationLibrary as sim"
   ]
  },
  {
   "cell_type": "code",
   "execution_count": 7,
   "id": "f1dba333-121a-47d8-8cb2-fc63ae937a0d",
   "metadata": {},
   "outputs": [],
   "source": [
    "sim.clearDirectory()"
   ]
  },
  {
   "cell_type": "markdown",
   "id": "f1c40a58",
   "metadata": {},
   "source": [
    "# Introduction\n",
    "\n",
    "I have scowered far and wide for a good guide for this project and have come up with nothing. Sure, I have found some resources here and there than give insight into pieces of this puzzle but never the whole picture. I aim to change that with this notebook. This will be split in to two(ish) main parts. The first part being the mathematical derivation of our numerical scheme, or in otherworse how to turn a PDE into something a computer can handle. The second part will be the implementation of said numerical scheme into a coding language, in our case python. In this second section I want to make a clear translation between the mathematics and the code, and so that anyone could read this article and translate the concepts into whatever other coding language they see fit. After the second section I will also provide similar but more condensed derivations of other forms of the wave equation and their implementations, like the damped/forced wave quation and their higher dimensional counterparts.\n",
    "\n",
    "# Part One: The Derivation\n",
    "The good ol general wave equation is as follows:\n",
    "\n",
    "$$\n",
    "\\begin{center}\n",
    "    \\frac{\\partial^2 u}{\\partial t^2}=c^2 \\nabla u\n",
    "\\end{center}\n",
    "$$"
   ]
  },
  {
   "cell_type": "code",
   "execution_count": 7,
   "id": "00f9e8c6-d53e-488c-af38-dbfc01d39fc7",
   "metadata": {},
   "outputs": [],
   "source": [
    "def func(x):\n",
    "    return(x*((2*np.pi)-x))"
   ]
  },
  {
   "cell_type": "code",
   "execution_count": 8,
   "id": "2678ab25-3bff-4518-8397-291652ecc75d",
   "metadata": {},
   "outputs": [],
   "source": [
    "def gaussianDistribution(x, mean, std_dev):\n",
    "    coefficient = 1 / (std_dev * np.sqrt(2 * np.pi))\n",
    "    exponent = -((x - mean) ** 2) / (2 * std_dev ** 2)\n",
    "    return(coefficient * np.exp(exponent))"
   ]
  },
  {
   "cell_type": "markdown",
   "id": "b18b6466-574c-4ac2-9136-b776d648bc71",
   "metadata": {},
   "source": [
    "# Traditional Wave Equation"
   ]
  },
  {
   "cell_type": "code",
   "execution_count": 43,
   "id": "23a45fe0-2bba-413f-9421-0b9f95a0be76",
   "metadata": {},
   "outputs": [],
   "source": [
    "def waveSimulation(initialFunc, c=1, length=1, totalTime=5, Nx=200, Nt=1000):\n",
    "    # Lets create a meshed function\n",
    "    length = length\n",
    "    c=c\n",
    "    totalTime = totalTime\n",
    "    Nx = Nx # x axis\n",
    "    Nt = Nt # t axis\n",
    "    deltax = length/(Nx-1) # THIS IS THE IMPORTANT LINE OR ELSE IT BLOWS UP!!!!!!!!!!!!!!!!!!!! I HAVE NO CLUE WHY THAT -1 NEEDS TO BE THERE BUT IT DOES OR EVERYTHING GOES TO SHIT\n",
    "    deltat = totalTime/Nt\n",
    "    C=c*(deltat/deltax)\n",
    "    if C >=1 :\n",
    "        print(\"C is greater than 1. C=\"+str(C))\n",
    "        sys.exit(1)\n",
    "    \n",
    "    x=np.linspace(0,length,Nx)\n",
    "    t=np.linspace(0,totalTime, Nt)\n",
    "    \n",
    "    u=np.zeros((Nt, Nx))\n",
    "    u[0]=initialFunc(x)\n",
    "    u[1]=u[0]\n",
    "    for n in tqdm(range(1,Nt-1)):\n",
    "        for i in range(1,Nx-1): # All interior points\n",
    "            u[n+1,i]=(2 * (1 - C**2) * u[n, i] - u[n - 1, i] + C**2 * (u[n, i + 1] + u[n, i - 1]))\n",
    "\n",
    "    sim.clearDirectory()\n",
    "    for i in tqdm(range(Nt)):\n",
    "        plt.plot(u[i])\n",
    "        plt.xlim(0,Nx)\n",
    "        plt.ylim(-5,5)\n",
    "        plt.savefig('../..//Physics-Simulations/Images for simulation/graph'+str(i)+'.png') # dpi argument increases resolution\n",
    "        plt.close('all')"
   ]
  },
  {
   "cell_type": "code",
   "execution_count": 49,
   "id": "d6789bc6-007c-4c87-8b28-27c21f4fc34e",
   "metadata": {},
   "outputs": [],
   "source": [
    "sim.clearDirectory()"
   ]
  },
  {
   "cell_type": "markdown",
   "id": "b90d8686-446f-47f9-b1e1-f61cac052c5e",
   "metadata": {},
   "source": [
    "# Damped Wave Equation"
   ]
  },
  {
   "cell_type": "code",
   "execution_count": 42,
   "id": "ffbdeb02-cca7-4647-a0c0-97f4dd7fe582",
   "metadata": {},
   "outputs": [],
   "source": [
    "def gaussianDistribution(x, mean=0.5, std_dev=0.1):\n",
    "    coefficient = 1 / (std_dev * np.sqrt(2 * np.pi))\n",
    "    exponent = -((x - mean) ** 2) / (2 * std_dev ** 2)\n",
    "    return(coefficient * np.exp(exponent))"
   ]
  },
  {
   "cell_type": "code",
   "execution_count": 57,
   "id": "6b01e9e0-f682-4406-8bb8-3da7b6b6664e",
   "metadata": {},
   "outputs": [],
   "source": [
    "def dampedWaveSimulation(initialFunc, c=1, gamma=1, length=1, totalTime=5, Nx=200, Nt=1000):\n",
    "    # Lets create a meshed function\n",
    "    length = length\n",
    "    c=c\n",
    "    gamma = gamma\n",
    "    totalTime = totalTime\n",
    "    Nx = Nx # x axis\n",
    "    Nt = Nt # t axis\n",
    "    deltax = length/(Nx-1) # THIS IS THE IMPORTANT LINE OR ELSE IT BLOWS UP!!!!!!!!!!!!!!!!!!!! I HAVE NO CLUE WHY THAT -1 NEEDS TO BE THERE BUT IT DOES OR EVERYTHING GOES TO SHIT\n",
    "    deltat = totalTime/Nt\n",
    "    C=c*(deltat/deltax)\n",
    "    if C >=1 :\n",
    "        print(\"C is greater than 1. C=\"+str(C))\n",
    "        sys.exit(1)\n",
    "    \n",
    "    x=np.linspace(0,length,Nx)\n",
    "    t=np.linspace(0,totalTime, Nt)\n",
    "    \n",
    "    u_initial = np.exp(-((x - 0.1)**2) / (2 * sigma**2))\n",
    "    v_initial = (A * v * (x - x_0) / sigma**2) * np.exp(-((x - x_0)**2) / (2 * sigma**2))\n",
    "    \n",
    "    u=np.zeros((Nt, Nx))\n",
    "    u[0]=initialFunc(x)\n",
    "    u[1]=u[0]\n",
    "    for n in tqdm(range(1,Nt-1)):\n",
    "        for i in range(1,Nx-1): # All interior points\n",
    "            u[n+1,i]=(1/(1+gamma*deltat))*((2*u[n, i]*(1-gamma*deltat))-(u[n-1,i]*(1-gamma*deltat))+(C**2)*(u[n,i+1]-2*u[n,i]+u[n,i-1]))\n",
    "            \n",
    "    sim.clearDirectory()\n",
    "    for i in tqdm(range(Nt)):\n",
    "        plt.plot(u[i])\n",
    "        plt.xlim(0,Nx)\n",
    "        plt.ylim(-5,5)\n",
    "        plt.savefig('../..//Physics-Simulations/Images for simulation/graph'+str(i)+'.png', dpi=300) # dpi argument increases resolution\n",
    "        plt.close('all')"
   ]
  },
  {
   "cell_type": "code",
   "execution_count": 58,
   "id": "b4c64ef8-9142-4005-8557-86706f382cd0",
   "metadata": {},
   "outputs": [
    {
     "name": "stderr",
     "output_type": "stream",
     "text": [
      "100%|████████████████████████████████████████████████████████████████████████| 998/998 [00:00<00:00, 6086.47it/s]\n",
      "100%|████████████████████████████████████████████████████████████████████████| 1000/1000 [01:36<00:00, 10.38it/s]\n"
     ]
    }
   ],
   "source": [
    "dampedWaveSimulation(gaussianDistribution)"
   ]
  },
  {
   "cell_type": "code",
   "execution_count": 50,
   "id": "322231af-43f7-44e6-9167-817b99b482c8",
   "metadata": {},
   "outputs": [],
   "source": [
    "sim.clearDirectory()"
   ]
  },
  {
   "cell_type": "markdown",
   "id": "8c3ad615-74fe-4b4b-baf3-9e3ec3cfaff8",
   "metadata": {},
   "source": [
    "# One Dimensional Schrodinger Eq"
   ]
  },
  {
   "cell_type": "code",
   "execution_count": 11,
   "id": "a1c66c57-4027-4429-a49e-818e80386792",
   "metadata": {},
   "outputs": [
    {
     "name": "stderr",
     "output_type": "stream",
     "text": [
      "100%|█████████████████████████████████████████████████████████████████████████| 197/197 [00:00<00:00, 712.20it/s]\n"
     ]
    }
   ],
   "source": [
    "import numpy as np\n",
    "import matplotlib.pyplot as plt\n",
    "from matplotlib.animation import FuncAnimation\n",
    "from tqdm import tqdm\n",
    "\n",
    "# Constants\n",
    "hbar = 1.0545718e-34  # Planck's constant divided by 2*pi\n",
    "m = 9.10938356e-31    # Mass of the electron\n",
    "L = 1e-8              # Length of the domain\n",
    "Nx = 2000             # Number of spatial points\n",
    "deltax = L / (Nx - 1) # Spatial step size\n",
    "x = np.linspace(0, L, Nx)  # Spatial grid\n",
    "deltat = 5*1e-19        # Time step size\n",
    "totalTime = 1e-16     # Total time\n",
    "Nt = int(totalTime / deltat)  # Number of time steps\n",
    "\n",
    "# Correct constants\n",
    "A = -1j * hbar * deltat / (2 * m * deltax**2)\n",
    "B = 2j * deltat / hbar\n",
    "\n",
    "V = np.zeros(Nx)\n",
    "\n",
    "# Initial conditions: Gaussian wave packet\n",
    "x0 = L / 2\n",
    "k0 = 5e10\n",
    "sigma = L / 20\n",
    "psiReal = np.exp(- (x - x0)**2 / (2 * sigma**2)) * np.cos(k0 * x)\n",
    "psiImag = np.exp(- (x - x0)**2 / (2 * sigma**2)) * np.sin(k0 * x)\n",
    "psiInitial = psiReal + 1j * psiImag\n",
    "\n",
    "# Initialize the wavefunction array\n",
    "psi = np.zeros((Nt, Nx), dtype=complex)\n",
    "psi[0, :] = psiInitial\n",
    "psi[1, :] = psiInitial\n",
    "\n",
    "# Time evolution\n",
    "for n in tqdm(range(1, Nt - 1)):\n",
    "    for j in range(1, Nx - 1):  # All interior points\n",
    "        psi[n + 1, j] = A * (psi[n, j + 1] - 2 * psi[n, j] + psi[n, j - 1]) + psi[n - 1, j] - B * V[j] * psi[n, j]\n",
    "\n",
    "    psi[n + 1, 0] = psi[n + 1, Nx - 1] = 0 #Enforce boundary conditions\n"
   ]
  },
  {
   "cell_type": "code",
   "execution_count": 12,
   "id": "bb2342fc-57aa-40f8-a7fb-bb2b899bef42",
   "metadata": {},
   "outputs": [
    {
     "name": "stderr",
     "output_type": "stream",
     "text": [
      " 53%|███████████████████████████████████████▍                                  | 106/199 [00:08<00:07, 11.99it/s]\n"
     ]
    },
    {
     "ename": "KeyboardInterrupt",
     "evalue": "",
     "output_type": "error",
     "traceback": [
      "\u001b[1;31m---------------------------------------------------------------------------\u001b[0m",
      "\u001b[1;31mKeyboardInterrupt\u001b[0m                         Traceback (most recent call last)",
      "Cell \u001b[1;32mIn[12], line 7\u001b[0m\n\u001b[0;32m      5\u001b[0m plt\u001b[38;5;241m.\u001b[39mylim(\u001b[38;5;241m-\u001b[39m\u001b[38;5;241m5\u001b[39m,\u001b[38;5;241m5\u001b[39m)\n\u001b[0;32m      6\u001b[0m plt\u001b[38;5;241m.\u001b[39msavefig(\u001b[38;5;124m'\u001b[39m\u001b[38;5;124m../..//Physics-Simulations/Images for simulation/graph\u001b[39m\u001b[38;5;124m'\u001b[39m\u001b[38;5;241m+\u001b[39m\u001b[38;5;28mstr\u001b[39m(i)\u001b[38;5;241m+\u001b[39m\u001b[38;5;124m'\u001b[39m\u001b[38;5;124m.png\u001b[39m\u001b[38;5;124m'\u001b[39m) \u001b[38;5;66;03m# dpi argument increases resolution\u001b[39;00m\n\u001b[1;32m----> 7\u001b[0m \u001b[43mplt\u001b[49m\u001b[38;5;241;43m.\u001b[39;49m\u001b[43mclose\u001b[49m\u001b[43m(\u001b[49m\u001b[38;5;124;43m'\u001b[39;49m\u001b[38;5;124;43mall\u001b[39;49m\u001b[38;5;124;43m'\u001b[39;49m\u001b[43m)\u001b[49m\n",
      "File \u001b[1;32m~\\AppData\\Local\\Packages\\PythonSoftwareFoundation.Python.3.9_qbz5n2kfra8p0\\LocalCache\\local-packages\\Python39\\site-packages\\matplotlib\\pyplot.py:924\u001b[0m, in \u001b[0;36mclose\u001b[1;34m(fig)\u001b[0m\n\u001b[0;32m    922\u001b[0m         _pylab_helpers\u001b[38;5;241m.\u001b[39mGcf\u001b[38;5;241m.\u001b[39mdestroy(manager)\n\u001b[0;32m    923\u001b[0m \u001b[38;5;28;01melif\u001b[39;00m fig \u001b[38;5;241m==\u001b[39m \u001b[38;5;124m'\u001b[39m\u001b[38;5;124mall\u001b[39m\u001b[38;5;124m'\u001b[39m:\n\u001b[1;32m--> 924\u001b[0m     \u001b[43m_pylab_helpers\u001b[49m\u001b[38;5;241;43m.\u001b[39;49m\u001b[43mGcf\u001b[49m\u001b[38;5;241;43m.\u001b[39;49m\u001b[43mdestroy_all\u001b[49m\u001b[43m(\u001b[49m\u001b[43m)\u001b[49m\n\u001b[0;32m    925\u001b[0m \u001b[38;5;28;01melif\u001b[39;00m \u001b[38;5;28misinstance\u001b[39m(fig, \u001b[38;5;28mint\u001b[39m):\n\u001b[0;32m    926\u001b[0m     _pylab_helpers\u001b[38;5;241m.\u001b[39mGcf\u001b[38;5;241m.\u001b[39mdestroy(fig)\n",
      "\u001b[1;31mKeyboardInterrupt\u001b[0m: "
     ]
    }
   ],
   "source": [
    "sim.clearDirectory()\n",
    "for i in tqdm(range(Nt)):\n",
    "    plt.plot(np.real(psi[i]))\n",
    "    plt.xlim(0,Nx)\n",
    "    plt.ylim(-5,5)\n",
    "    plt.savefig('../..//Physics-Simulations/Images for simulation/graph'+str(i)+'.png') # dpi argument increases resolution\n",
    "    plt.close('all')"
   ]
  },
  {
   "cell_type": "code",
   "execution_count": null,
   "id": "384619dd-b935-453c-94f4-2aed6886465c",
   "metadata": {},
   "outputs": [],
   "source": []
  }
 ],
 "metadata": {
  "kernelspec": {
   "display_name": "Python 3 (ipykernel)",
   "language": "python",
   "name": "python3"
  },
  "language_info": {
   "codemirror_mode": {
    "name": "ipython",
    "version": 3
   },
   "file_extension": ".py",
   "mimetype": "text/x-python",
   "name": "python",
   "nbconvert_exporter": "python",
   "pygments_lexer": "ipython3",
   "version": "3.9.13"
  }
 },
 "nbformat": 4,
 "nbformat_minor": 5
}
