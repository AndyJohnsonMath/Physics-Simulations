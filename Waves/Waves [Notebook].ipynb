{
 "cells": [
  {
   "cell_type": "markdown",
   "id": "36828cde",
   "metadata": {},
   "source": [
    "In this notebook we want to lookd a few different numerical wave phenomenon. I just think waves are cool and PDEs are some of my favorite structures in all of mathematics. That being said, I ultimately want to make some wave simulations under a few different constraints. My big goals are as follows:\n",
    "- Create a basic 2D wave progpogation simulation\n",
    "- Create a similar sort of equation for Schrodinger equation\n",
    "- Create a 3D wave simulation"
   ]
  },
  {
   "cell_type": "markdown",
   "id": "f1c40a58",
   "metadata": {},
   "source": [
    "# Basic Wave Simulation"
   ]
  },
  {
   "cell_type": "markdown",
   "id": "b47826f3",
   "metadata": {},
   "source": [
    "To remind ourselves, the basic wave equation is $\\frac{\\partial^2 u}{\\partial t^2}=c^2\\nabla^2 u$. This is the generalized wave equation for multiple dimensions, for a 2d eq we simply need to reduce it down to break down that laplacian operator and we will get the simple wave equation $\\frac{\\partial^2 u}{\\partial t^2} = c^2 \\frac{\\partial^2 u}{\\partial x^2}$. Why the partials, you might ask? Well that is because out position function, $u$, is a function of two variables, namely position and time. That is, $u$ is secretly $u(x,t)$ under the hood. When $t=0$ then we $u$ becomes $u(x,0)$, or, more compactly, just $u(x)$. THIS is just a curve! A 2D curve, specifically. A cross section of the wave at a certain time, specifically at our starting time $t=0$. If we advance time to anything else, then the wave should also change (It doesnt have to change, but the purposes of modeling a physical system it probably should, so moving forward we should be expecting this sort of thing). So, thus $u(x,t)$ is a function of curves, varied by space and time, that contains all the information of the wave that we want to get. That is why we are dealing with partial derivatives here. And since we are dealing with partial derivatives, how can we actually turn this into a numerical scheme that we can computer on a computer?\n",
    "\n",
    "This question takes us to the realm of numerical analysis. Numerical analysis' entire existence is based upon approximating smooth curves and other sort of numerical algorithms. What do I mean by \"numerical algorithms\" or just \"numerical\" in general? Well, as with all words, it depends on the context. In a mathematical sense, numerical means approximation. So if you hear the term \"Numerical methods\" you can replace it in your mind with \"approximate methods\". This field is required for things that have no analytical solution, that is something that cant be explicitly solved with pen an paper. Mostly everything in nonanalytical so numerical methods are everywhere. We will be using a few things from numerical methods in this. The first thing is to find out how to represent our wave equation in a way that our computer can process. We can do this using finite difference methods for partial derivatives. Ignoring the derivation of it and going off a \"trust me\" sort of thing, this is the finite difference approximation for a second order partial derivative. Let $u(x,t)$ be our mutlivariate function and lets approximate it at a specific point, that is at $x_0$ and $t_0$\n",
    "\n",
    "$$\n",
    "\\frac{\\partial^2 u}{\\partial t^2}(x_0,t_0) \\approx \\frac{u(x_0+\\Delta x,t_0)-2u(x_0,t_0)+f(x_0-\\Delta x,t_0)}{(\\Delta x)^2}.\n",
    "$$\n",
    "\n",
    "This is nice, but unfortunately the field of partial differential calculus loves to use many different forms of notation for the same thing. Because of this we are gonna have to use some other notation that im not entirely fond of due to its non-ituitiveness, but alas here we are! Anyways, the notation is this:\n",
    "\n",
    "$$\n",
    "u^{(m)}_j=\\tilde{u}(x_j,t_m)\n",
    "$$\n",
    "\n",
    "Where $\\tilde{u}$ is the approximation of $u$ at time $t_m$ and position $x_j$. You know what? Looking back at this notation, its not that bad. I still have some problems with it, but I may have been a little hasty in my analysis of it. The approximation in this case is the central finite difference approximation that was stated up above. Using this notation, lets refine our central finite difference notation and clean up our equations a little bit using this new notation.\n"
   ]
  },
  {
   "cell_type": "markdown",
   "id": "d5a44de7",
   "metadata": {},
   "source": [
    "# Schrodinger Eq"
   ]
  },
  {
   "cell_type": "markdown",
   "id": "2b45fb31",
   "metadata": {},
   "source": [
    "# 3D Waves"
   ]
  },
  {
   "cell_type": "code",
   "execution_count": null,
   "id": "d9d40241",
   "metadata": {},
   "outputs": [],
   "source": []
  }
 ],
 "metadata": {
  "kernelspec": {
   "display_name": "Python 3 (ipykernel)",
   "language": "python",
   "name": "python3"
  },
  "language_info": {
   "codemirror_mode": {
    "name": "ipython",
    "version": 3
   },
   "file_extension": ".py",
   "mimetype": "text/x-python",
   "name": "python",
   "nbconvert_exporter": "python",
   "pygments_lexer": "ipython3",
   "version": "3.9.6"
  }
 },
 "nbformat": 4,
 "nbformat_minor": 5
}
