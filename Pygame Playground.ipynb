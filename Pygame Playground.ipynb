{
 "cells": [
  {
   "cell_type": "code",
   "execution_count": 4,
   "id": "5c61d269-b3af-44b2-a671-2a885344aae7",
   "metadata": {},
   "outputs": [
    {
     "name": "stdout",
     "output_type": "stream",
     "text": [
      "pygame 2.5.2 (SDL 2.28.3, Python 3.9.13)\n",
      "Hello from the pygame community. https://www.pygame.org/contribute.html\n"
     ]
    }
   ],
   "source": [
    "import pygame\n",
    "import os\n",
    "import sys\n",
    "import math\n",
    "import random\n",
    "import euclid3 as euclid\n",
    "import numpy as np\n",
    "import matplotlib.pyplot as plt\n",
    "from matplotlib import cm\n",
    "from matplotlib.animation import FuncAnimation\n",
    "import matplotlib as mpl\n",
    "from tqdm import tqdm"
   ]
  },
  {
   "cell_type": "code",
   "execution_count": 5,
   "id": "b9c5c969-3ddb-4a42-bbbb-30e06d7f9bdc",
   "metadata": {},
   "outputs": [],
   "source": [
    "#We have this cell here to call the dataAnalysisLibrary module from one place rather than copy pasting into many other places\n",
    "# the ../ means one directory back, which is, so this should fix pathing problems moving forward\n",
    "\n",
    "sys.path.insert(0,'./Code/')\n",
    "import simulationLibrary as sim"
   ]
  },
  {
   "cell_type": "markdown",
   "id": "43d79f21-e2f8-4d73-8324-6d3ed2b54fda",
   "metadata": {},
   "source": [
    "# Boilerplate template"
   ]
  },
  {
   "cell_type": "code",
   "execution_count": 3,
   "id": "3ff8c93f-8213-42de-bbaa-625c4e8e9009",
   "metadata": {},
   "outputs": [
    {
     "ename": "SystemExit",
     "evalue": "",
     "output_type": "error",
     "traceback": [
      "An exception has occurred, use %tb to see the full traceback.\n",
      "\u001b[1;31mSystemExit\u001b[0m\n"
     ]
    },
    {
     "name": "stderr",
     "output_type": "stream",
     "text": [
      "C:\\Users\\darkb\\AppData\\Local\\Packages\\PythonSoftwareFoundation.Python.3.9_qbz5n2kfra8p0\\LocalCache\\local-packages\\Python39\\site-packages\\IPython\\core\\interactiveshell.py:3468: UserWarning: To exit: use 'exit', 'quit', or Ctrl-D.\n",
      "  warn(\"To exit: use 'exit', 'quit', or Ctrl-D.\", stacklevel=1)\n"
     ]
    }
   ],
   "source": [
    "# Boiler plate template for pygame\n",
    "black = 0,0,0\n",
    "white = 255, 255, 255\n",
    "red = 255, 0, 0\n",
    "green = 0, 225, 0\n",
    "blue = 0, 0, 225\n",
    "\n",
    "screenSize = screenWidth, screenHeight = 600, 400\n",
    "screen = pygame.display.set_mode(screenSize)\n",
    "pygame.display.set_caption('Mouse Clicky Clicky')\n",
    "clock = pygame.time.Clock()\n",
    "\n",
    "fpsLimit = 60\n",
    "run = True\n",
    "while run:\n",
    "    for event in pygame.event.get():\n",
    "        if event.type == pygame.QUIT:\n",
    "            run = False\n",
    "\n",
    "    screen.fill(white)\n",
    "    pygame.display.flip()\n",
    "    clock.tick(fpsLimit)\n",
    "    \n",
    "pygame.quit()\n",
    "sys.exit()"
   ]
  },
  {
   "cell_type": "markdown",
   "id": "ed36baaf-1354-4458-87f3-13e5cab8166b",
   "metadata": {
    "jp-MarkdownHeadingCollapsed": true
   },
   "source": [
    "# Physics Tutorial from YouTube Playlist"
   ]
  },
  {
   "cell_type": "code",
   "execution_count": 4,
   "id": "d38bb522-3611-4f86-8bb9-cd027ea0166f",
   "metadata": {},
   "outputs": [
    {
     "ename": "SystemExit",
     "evalue": "",
     "output_type": "error",
     "traceback": [
      "An exception has occurred, use %tb to see the full traceback.\n",
      "\u001b[1;31mSystemExit\u001b[0m\n"
     ]
    }
   ],
   "source": [
    "black = 0,0,0\n",
    "white = 255, 255, 255\n",
    "red = 255, 0, 0\n",
    "green = 0, 225, 0\n",
    "blue = 0, 0, 225\n",
    "\n",
    "colors = [black, white, red, green, blue]\n",
    "\n",
    "gravity = euclid.Vector2(0.0, 80.0)\n",
    "drag = 0.1\n",
    "initialVelocity = 0\n",
    "\n",
    "screenSize = screenWidth, screenHeight = 600, 400\n",
    "\n",
    "class MyCircle:\n",
    "    def __init__ (self, position, size, color=(255, 255, 255), velocity = euclid.Vector2(0,0), accel = euclid.Vector2(0,0), width = 1):\n",
    "        self.position = position\n",
    "        self.velocity = velocity\n",
    "        self.accel = accel\n",
    "        self.size = size\n",
    "        self.color = color\n",
    "        self.width = width\n",
    "\n",
    "    def display(self):\n",
    "        rx, ry = int(self.position.x), int(self.position.y)\n",
    "        pygame.draw.circle(screen, self.color, (rx, ry), self.size, self.width)\n",
    "\n",
    "    def move(self):\n",
    "        self.position += self.velocity*dtime+0.5*(self.accel*(dtime**2))\n",
    "        self.velocity += self.accel * dtime\n",
    "        self.velocty = self.velocity*drag*dtime\n",
    "        self.bounce()\n",
    "\n",
    "    def changeVelocity(self, velocity):\n",
    "        self.velocity = velocity\n",
    "\n",
    "    def bounce(self):\n",
    "        if self.position.x <= self.size:\n",
    "            self.position.x = 2*self.size - self.position.x\n",
    "            self.velocity = self.velocity.reflect(euclid.Vector2(1,0))\n",
    "        elif self.position.x >= screenWidth - self.size:\n",
    "            self.position.x = 2*(screenWidth-self.size) - self.position.x\n",
    "            self.velocity = self.velocity.reflect(euclid.Vector2(1,0))\n",
    "\n",
    "        if self.position.y <= self.size:\n",
    "            self.position.y = 2*self.size - self.position.y\n",
    "            self.velocity = self.velocity.reflect(euclid.Vector2(0,1))\n",
    "        elif self.position.y >= screenHeight - self.size:\n",
    "            self.position.y = 2*(screenHeight-self.size) - self.position.y\n",
    "            self.velocity = self.velocity.reflect(euclid.Vector2(0,1))\n",
    "\n",
    "def getRandomVelocity():\n",
    "    newAngle = random.uniform(0, math.pi*2)\n",
    "    newx = math.sin(newAngle)\n",
    "    newy = math.cos(newAngle)\n",
    "    newVector = euclid.Vector2(newx, newy)\n",
    "    newVector.normalize()\n",
    "    newVector *= initialVelocity\n",
    "    return(newVector)\n",
    "\n",
    "screen = pygame.display.set_mode(screenSize)\n",
    "pygame.display.set_caption('First Class!')\n",
    "\n",
    "numCircles = 10\n",
    "myCircles = []\n",
    "\n",
    "for n in range(numCircles):\n",
    "    size = random.randint(10,20)\n",
    "    x = random.randint(size, screenWidth-size)\n",
    "    y = random.randint(size, screenHeight-size)\n",
    "    color = random.choice(colors)\n",
    "    velocity = getRandomVelocity()\n",
    "    myCircle = MyCircle(euclid.Vector2(x,y), size, color, velocity, gravity)\n",
    "    myCircles.append(myCircle)\n",
    "\n",
    "clock = pygame.time.Clock()\n",
    "\n",
    "directionTick = 0\n",
    "\n",
    "fpsLimit = 60\n",
    "runMe = True\n",
    "while runMe:\n",
    "    for event in pygame.event.get():\n",
    "        if event.type == pygame.QUIT:\n",
    "            runMe = False\n",
    "\n",
    "    dtime_ms = clock.tick(fpsLimit)\n",
    "    dtime = dtime_ms/1000\n",
    "\n",
    "    screen.lock()\n",
    "    screen.fill(white)\n",
    "\n",
    "    for myCircle in myCircles:\n",
    "        myCircle.move()\n",
    "        myCircle.display()\n",
    "\n",
    "    screen.unlock()\n",
    "    pygame.display.flip()\n",
    "\n",
    "pygame.quit()\n",
    "sys.exit()"
   ]
  },
  {
   "cell_type": "markdown",
   "id": "6d826a6b-7b89-43ec-b4c0-da6576e8116c",
   "metadata": {},
   "source": [
    "# Basic Three Body Problem"
   ]
  },
  {
   "cell_type": "markdown",
   "id": "e7f53fdd-e04b-4d71-9bf4-bfd3f03cbc9d",
   "metadata": {},
   "source": [
    "Just trying to watch the gravity of a system evolve in real time"
   ]
  },
  {
   "cell_type": "code",
   "execution_count": 8,
   "id": "e4bd02e5-a45c-46d8-9561-082d52c4f55e",
   "metadata": {},
   "outputs": [
    {
     "ename": "TypeError",
     "evalue": "center argument must be a pair of numbers",
     "output_type": "error",
     "traceback": [
      "\u001b[1;31m---------------------------------------------------------------------------\u001b[0m",
      "\u001b[1;31mTypeError\u001b[0m                                 Traceback (most recent call last)",
      "Cell \u001b[1;32mIn[8], line 64\u001b[0m\n\u001b[0;32m     62\u001b[0m \u001b[38;5;28;01mfor\u001b[39;00m myBody \u001b[38;5;129;01min\u001b[39;00m myBodies:\n\u001b[0;32m     63\u001b[0m     updateGravity(myBodies, \u001b[38;5;241m1\u001b[39m\u001b[38;5;241m/\u001b[39mfpsLimit)\n\u001b[1;32m---> 64\u001b[0m     \u001b[43mmyBody\u001b[49m\u001b[38;5;241;43m.\u001b[39;49m\u001b[43mdisplay\u001b[49m\u001b[43m(\u001b[49m\u001b[43m)\u001b[49m\n\u001b[0;32m     66\u001b[0m screen\u001b[38;5;241m.\u001b[39munlock()\n\u001b[0;32m     67\u001b[0m pygame\u001b[38;5;241m.\u001b[39mdisplay\u001b[38;5;241m.\u001b[39mflip()\n",
      "Cell \u001b[1;32mIn[8], line 27\u001b[0m, in \u001b[0;36mBody.display\u001b[1;34m(self)\u001b[0m\n\u001b[0;32m     25\u001b[0m \u001b[38;5;28;01mdef\u001b[39;00m \u001b[38;5;21mdisplay\u001b[39m(\u001b[38;5;28mself\u001b[39m):\n\u001b[0;32m     26\u001b[0m     rx, ry \u001b[38;5;241m=\u001b[39m \u001b[38;5;28mint\u001b[39m(\u001b[38;5;28mself\u001b[39m\u001b[38;5;241m.\u001b[39mposition\u001b[38;5;241m.\u001b[39mx), \u001b[38;5;28mint\u001b[39m(\u001b[38;5;28mself\u001b[39m\u001b[38;5;241m.\u001b[39mposition\u001b[38;5;241m.\u001b[39my)\n\u001b[1;32m---> 27\u001b[0m     \u001b[43mpygame\u001b[49m\u001b[38;5;241;43m.\u001b[39;49m\u001b[43mdraw\u001b[49m\u001b[38;5;241;43m.\u001b[39;49m\u001b[43mcircle\u001b[49m\u001b[43m(\u001b[49m\u001b[43mscreen\u001b[49m\u001b[43m,\u001b[49m\u001b[43m \u001b[49m\u001b[38;5;28;43mself\u001b[39;49m\u001b[38;5;241;43m.\u001b[39;49m\u001b[43mcolor\u001b[49m\u001b[43m,\u001b[49m\u001b[43m \u001b[49m\u001b[43m(\u001b[49m\u001b[43mrx\u001b[49m\u001b[43m,\u001b[49m\u001b[43m \u001b[49m\u001b[43mry\u001b[49m\u001b[43m)\u001b[49m\u001b[43m,\u001b[49m\u001b[43m \u001b[49m\u001b[38;5;28;43mself\u001b[39;49m\u001b[38;5;241;43m.\u001b[39;49m\u001b[43msize\u001b[49m\u001b[43m,\u001b[49m\u001b[43m \u001b[49m\u001b[38;5;28;43mself\u001b[39;49m\u001b[38;5;241;43m.\u001b[39;49m\u001b[43mwidth\u001b[49m\u001b[43m)\u001b[49m\n",
      "\u001b[1;31mTypeError\u001b[0m: center argument must be a pair of numbers"
     ]
    }
   ],
   "source": [
    "# Boiler plate template for pygame\n",
    "black = 0,0,0\n",
    "white = 255, 255, 255\n",
    "red = 255, 0, 0\n",
    "green = 0, 225, 0\n",
    "blue = 0, 0, 225\n",
    "\n",
    "colors = [black, white, red, green, blue]\n",
    "\n",
    "screenSize = screenWidth, screenHeight = 600, 400\n",
    "screen = pygame.display.set_mode(screenSize)\n",
    "pygame.display.set_caption('Three Body System')\n",
    "clock = pygame.time.Clock()\n",
    "\n",
    "class Body:\n",
    "    def __init__ (self, color, mass = 0, position = euclid.Vector2(0,0), velocity = euclid.Vector2(0,0), acceleration = euclid.Vector2(0,0), width = 0):\n",
    "        self.mass = mass\n",
    "        self.size = mass\n",
    "        self.position = position\n",
    "        self.velocity = velocity\n",
    "        self.acceleration = acceleration\n",
    "        self.color = color\n",
    "        self.width = width\n",
    "\n",
    "    def display(self):\n",
    "        rx, ry = int(self.position.x), int(self.position.y)\n",
    "        pygame.draw.circle(screen, self.color, (rx, ry), self.size, self.width)\n",
    "\n",
    "    # def update(self, dt):\n",
    "    #     self.position.x += self.velocity.x * dt\n",
    "    #     self.position.y += self.velocity.y * dt\n",
    "\n",
    "def updateGravity(bodies, deltat, G = 6.674*pow(10,-11)):\n",
    "    accel1 = (-G*bodies[1].mass)*((bodies[0].position-bodies[1].position)/((bodies[0].position-bodies[1].position).magnitude())**3)+(-G*bodies[2].mass)*((bodies[0].position-bodies[2].position)/((bodies[0].position-bodies[2].position).magnitude())**3)\n",
    "    accel2 = (-G*bodies[2].mass)*((bodies[1].position-bodies[2].position)/((bodies[1].position-bodies[2].position).magnitude())**3)+(-G*bodies[0].mass)*((bodies[1].position-bodies[0].position)/((bodies[1].position-bodies[0].position).magnitude())**3)\n",
    "    accel3 = (-G*bodies[0].mass)*((bodies[2].position-bodies[0].position)/((bodies[2].position-bodies[0].position).magnitude())**3)+(-G*bodies[1].mass)*((bodies[2].position-bodies[1].position)/((bodies[2].position-bodies[1].position).magnitude())**3)\n",
    "    \n",
    "    vel1 = bodies[0].velocity+(accel1*deltat)\n",
    "    vel2 = bodies[1].velocity+(accel2*deltat)\n",
    "    vel3 = bodies[2].velocity+(accel3*deltat)\n",
    "\n",
    "    bodies[0].position += bodies[0].position+(vel1*deltat)\n",
    "    bodies[1].position += bodies[1].position+(vel2*deltat)\n",
    "    bodies[2].position += bodies[2].position+(vel3*deltat)\n",
    "    \n",
    "# numBodies = 3\n",
    "body1 = Body(color = red, mass = 10, position = euclid.Vector2(300,100), velocity = euclid.Vector2(1,0), acceleration = euclid.Vector2(0,0))\n",
    "body2 = Body(color = green, mass = 10, position = euclid.Vector2(200,200), velocity = euclid.Vector2(0,0), acceleration = euclid.Vector2(0,0))\n",
    "body3 = Body(color = blue, mass = 10, position = euclid.Vector2(400,200), velocity = euclid.Vector2(0,0), acceleration = euclid.Vector2(0,0))\n",
    "myBodies = [body1, body2, body3]\n",
    "\n",
    "fpsLimit = 60\n",
    "run = True\n",
    "while run:\n",
    "    for event in pygame.event.get():\n",
    "        if event.type == pygame.QUIT:\n",
    "            run = False\n",
    "\n",
    "    screen.lock()\n",
    "    screen.fill(white)\n",
    "\n",
    "    for myBody in myBodies:\n",
    "        updateGravity(myBodies, 1/fpsLimit)\n",
    "        myBody.display()\n",
    "\n",
    "    screen.unlock()\n",
    "    pygame.display.flip()\n",
    "    clock.tick(fpsLimit)\n",
    "    \n",
    "pygame.quit()\n",
    "sys.exit()"
   ]
  },
  {
   "cell_type": "code",
   "execution_count": 1,
   "id": "8eeece82-db6f-4a31-aaa8-c9c8db06a72a",
   "metadata": {},
   "outputs": [
    {
     "ename": "SyntaxError",
     "evalue": "invalid syntax (266983647.py, line 34)",
     "output_type": "error",
     "traceback": [
      "\u001b[1;36m  Cell \u001b[1;32mIn[1], line 34\u001b[1;36m\u001b[0m\n\u001b[1;33m    force1 =\u001b[0m\n\u001b[1;37m             ^\u001b[0m\n\u001b[1;31mSyntaxError\u001b[0m\u001b[1;31m:\u001b[0m invalid syntax\n"
     ]
    }
   ],
   "source": [
    "# Boiler plate template for pygame\n",
    "black = 0,0,0\n",
    "white = 255, 255, 255\n",
    "red = 255, 0, 0\n",
    "green = 0, 225, 0\n",
    "blue = 0, 0, 225\n",
    "\n",
    "colors = [black, white, red, green, blue]\n",
    "\n",
    "class Body:\n",
    "    def __init__ (self, color, mass = 0, position = euclid.Vector2(0,0), velocity = euclid.Vector2(0,0), acceleration = euclid.Vector2(0,0), width = 0):\n",
    "        self.mass = mass\n",
    "        self.size = mass\n",
    "        self.position = position\n",
    "        self.velocity = velocity\n",
    "        self.acceleration = acceleration\n",
    "        self.color = color\n",
    "        self.width = width\n",
    "\n",
    "    def display(self):\n",
    "        rx, ry = int(self.position.x), int(self.position.y)\n",
    "        pygame.draw.circle(screen, self.color, (rx, ry), self.size, self.width)\n",
    "\n",
    "    def update(self, dt):\n",
    "        self.position.x += self.velocity.x * dt\n",
    "        self.position.y += self.velocity.y * dt\n",
    "\n",
    "body1 = Body(color = red, mass = 10, position = euclid.Vector2(300,100), velocity = euclid.Vector2(1,0), acceleration = euclid.Vector2(0,0))\n",
    "body2 = Body(color = green, mass = 10, position = euclid.Vector2(200,200), velocity = euclid.Vector2(0,0), acceleration = euclid.Vector2(0,0))\n"
   ]
  },
  {
   "cell_type": "markdown",
   "id": "56309676-fa29-4b83-99bc-c275a5845553",
   "metadata": {
    "jp-MarkdownHeadingCollapsed": true
   },
   "source": [
    "# Generating an object when a mouse button is clicked"
   ]
  },
  {
   "cell_type": "code",
   "execution_count": 5,
   "id": "fa87cc3e-9af2-4a55-9b6d-2bae460f022f",
   "metadata": {},
   "outputs": [
    {
     "name": "stdout",
     "output_type": "stream",
     "text": [
      "168\n"
     ]
    },
    {
     "ename": "SystemExit",
     "evalue": "",
     "output_type": "error",
     "traceback": [
      "An exception has occurred, use %tb to see the full traceback.\n",
      "\u001b[1;31mSystemExit\u001b[0m\n"
     ]
    }
   ],
   "source": [
    "black = 0,0,0\n",
    "white = 255, 255, 255\n",
    "red = 255, 0, 0\n",
    "green = 0, 225, 0\n",
    "blue = 0, 0, 225\n",
    "colors = [black, red, green, blue]\n",
    "\n",
    "screenSize = screenWidth, screenHeight = 600, 400\n",
    "screen = pygame.display.set_mode(screenSize)\n",
    "pygame.display.set_caption('Mouse Clicky Clicky')\n",
    "clock = pygame.time.Clock()\n",
    "\n",
    "class MyCircle:\n",
    "    def __init__ (self, position, size, color=(255, 255, 255), velocity = euclid.Vector2(0,0), width=0):\n",
    "        self.position = position\n",
    "        self.velocity = velocity\n",
    "        self.size = size\n",
    "        self.color = color\n",
    "        self.width = width\n",
    "\n",
    "    def display(self):\n",
    "        rx, ry = int(self.position[0]), int(self.position[1])\n",
    "        pygame.draw.circle(screen, self.color, (rx, ry), self.size, self.width)\n",
    "\n",
    "    def move(self):\n",
    "        self.position += self.velocity*dtime\n",
    "        self.bounce()\n",
    "    \n",
    "    def bounce(self):\n",
    "        if self.position[0] <= self.size:\n",
    "            self.position[0] = 2*self.size - self.position[0]\n",
    "            self.velocity = self.velocity.reflect(euclid.Vector2(1,0))\n",
    "        elif self.position[0] >= screenWidth - self.size:\n",
    "            self.position[0] = 2*(screenWidth-self.size) - self.position[0]\n",
    "            self.velocity = self.velocity.reflect(euclid.Vector2(1,0))\n",
    "\n",
    "        if self.position[1] <= self.size:\n",
    "            self.position[1] = 2*self.size - self.position[1]\n",
    "            self.velocity = self.velocity.reflect(euclid.Vector2(0,1))\n",
    "        elif self.position[1] >= screenHeight - self.size:\n",
    "            self.position[1] = 2*(screenHeight-self.size) - self.position[1]\n",
    "            self.velocity = self.velocity.reflect(euclid.Vector2(0,1))\n",
    "\n",
    "\n",
    "myCircles=[]\n",
    "\n",
    "fpsLimit = 60\n",
    "run = True\n",
    "mouseButtonDown = False\n",
    "while run:\n",
    "    for event in pygame.event.get():\n",
    "        if event.type == pygame.QUIT:\n",
    "            run = False\n",
    "        elif event.type == pygame.MOUSEBUTTONDOWN:\n",
    "            if pygame.mouse.get_pressed()[0]:\n",
    "                mouseButtonDown = True\n",
    "        elif event.type == pygame.MOUSEBUTTONUP:\n",
    "            if not pygame.mouse.get_pressed()[0]:\n",
    "                mouseButtonDown = False\n",
    "\n",
    "    dtime_ms = clock.tick(fpsLimit)\n",
    "    dtime = dtime_ms/1000\n",
    "\n",
    "    screen.fill(white)\n",
    "    \n",
    "    if mouseButtonDown:\n",
    "        pos = pygame.mouse.get_pos()\n",
    "        size= random.randint(1,5)\n",
    "        myCircle = MyCircle(pos,size,random.choice(colors),euclid.Vector2(random.randint(-100,100),random.randint(-100,100)))\n",
    "        myCircles.append(myCircle)\n",
    "        \n",
    "    for circles in myCircles:\n",
    "        circles.move()\n",
    "        circles.display()\n",
    "\n",
    "    pygame.display.flip()\n",
    "    # clock.tick(fpsLimit)\n",
    "\n",
    "print(len(myCircles))\n",
    "pygame.quit()\n",
    "sys.exit()"
   ]
  },
  {
   "cell_type": "markdown",
   "id": "437b3f0c-253a-435d-8038-f8e4f462c72d",
   "metadata": {
    "jp-MarkdownHeadingCollapsed": true
   },
   "source": [
    "# Now putting in gravitational bodies"
   ]
  },
  {
   "cell_type": "markdown",
   "id": "e7796cf9-da08-4a9f-b539-f06e4f96245e",
   "metadata": {},
   "source": [
    "What do we want this to look like? Lets make a simple gravitational body sim with these requirements:\n",
    "- Integrate a gravitational attraction between two circular masses\n",
    "- Bodies will bounce off of eachother\n",
    "- Gravitational bodies produced upon click, only one per click\n",
    "- bodies will bounce back if they hit the side of the window\n",
    "- Have the scroll wheel determine the size of the body (greater size = greater mass)\n",
    "- When generating a body, click and hold the left mouse button. Drag the mouse button to launch the body in the direction of the dragged mouse. Greater the distance greater the initial velocity"
   ]
  },
  {
   "cell_type": "code",
   "execution_count": 4,
   "id": "499cff57-6d64-4896-a8ce-12cef192482d",
   "metadata": {},
   "outputs": [
    {
     "ename": "SystemExit",
     "evalue": "",
     "output_type": "error",
     "traceback": [
      "An exception has occurred, use %tb to see the full traceback.\n",
      "\u001b[1;31mSystemExit\u001b[0m\n"
     ]
    },
    {
     "name": "stderr",
     "output_type": "stream",
     "text": [
      "C:\\Users\\darkb\\AppData\\Local\\Packages\\PythonSoftwareFoundation.Python.3.9_qbz5n2kfra8p0\\LocalCache\\local-packages\\Python39\\site-packages\\IPython\\core\\interactiveshell.py:3468: UserWarning: To exit: use 'exit', 'quit', or Ctrl-D.\n",
      "  warn(\"To exit: use 'exit', 'quit', or Ctrl-D.\", stacklevel=1)\n"
     ]
    }
   ],
   "source": []
  },
  {
   "cell_type": "markdown",
   "id": "392a21a1-6617-47d5-b057-f99a8c8367a1",
   "metadata": {
    "jp-MarkdownHeadingCollapsed": true
   },
   "source": [
    "# Integrating Wave Equation"
   ]
  },
  {
   "cell_type": "code",
   "execution_count": 6,
   "id": "0c411714-2115-4c8a-8203-1b18a1b46e4d",
   "metadata": {},
   "outputs": [],
   "source": [
    "def func(x):\n",
    "    return(x*((2*np.pi)-x))"
   ]
  },
  {
   "cell_type": "code",
   "execution_count": 7,
   "id": "2b06a20f-e3cc-40a4-9e31-ab61a97a0d11",
   "metadata": {},
   "outputs": [],
   "source": [
    "def gaussianDistribution(x, mean, std_dev):\n",
    "    coefficient = 1 / (std_dev * np.sqrt(2 * np.pi))\n",
    "    exponent = -((x - mean) ** 2) / (2 * std_dev ** 2)\n",
    "    return(coefficient * np.exp(exponent))"
   ]
  },
  {
   "cell_type": "code",
   "execution_count": 8,
   "id": "76daba18-d14e-4855-90db-88188d0657c7",
   "metadata": {},
   "outputs": [
    {
     "name": "stderr",
     "output_type": "stream",
     "text": [
      "100%|███████████████████████████████████████████████████████████████████| 998/998 [00:00<00:00, 6236.15it/s]\n"
     ]
    }
   ],
   "source": [
    "# Lets create a meshed function\n",
    "length = 1\n",
    "c=1\n",
    "totalTime = 5\n",
    "Nx = 200 # x axis\n",
    "Nt = 1000 # t axis\n",
    "deltax = length/(Nx-1) # THIS IS THE IMPORTANT LINE OR ELSE IT BLOWS UP!!!!!!!!!!!!!!!!!!!! I HAVE NO CLUE WHY THAT -1 NEEDS TO BE THERE BUT IT DOES OR EVERYTHING GOES TO SHIT\n",
    "deltat = totalTime/Nt\n",
    "C=c*(deltat/deltax)\n",
    "if C >= 1 :\n",
    "    print(\"C is greater than 1. C=\"+str(C))\n",
    "    sys.exit(1)\n",
    "\n",
    "x=np.linspace(0,length,Nx)\n",
    "t=np.linspace(0,totalTime, Nt)\n",
    "\n",
    "u=np.zeros((Nt, Nx))\n",
    "u[0]=gaussianDistribution(x,0.5,0.1)\n",
    "u[1]=u[0]\n",
    "for n in tqdm(range(1,Nt-1)):\n",
    "    for i in range(1,Nx-1): # All interior points\n",
    "        u[n+1,i]=(2 * (1 - C**2) * u[n, i] - u[n - 1, i] + C**2 * (u[n, i + 1] + u[n, i - 1]))"
   ]
  },
  {
   "cell_type": "code",
   "execution_count": 9,
   "id": "ff9892aa-a909-480f-9629-f968d92c5eaf",
   "metadata": {},
   "outputs": [
    {
     "ename": "NameError",
     "evalue": "name 'self' is not defined",
     "output_type": "error",
     "traceback": [
      "\u001b[1;31m---------------------------------------------------------------------------\u001b[0m",
      "\u001b[1;31mNameError\u001b[0m                                 Traceback (most recent call last)",
      "Cell \u001b[1;32mIn[9], line 13\u001b[0m\n\u001b[0;32m     10\u001b[0m pygame\u001b[38;5;241m.\u001b[39mdisplay\u001b[38;5;241m.\u001b[39mset_caption(\u001b[38;5;124m'\u001b[39m\u001b[38;5;124mWavey Boy\u001b[39m\u001b[38;5;124m'\u001b[39m)\n\u001b[0;32m     11\u001b[0m clock \u001b[38;5;241m=\u001b[39m pygame\u001b[38;5;241m.\u001b[39mtime\u001b[38;5;241m.\u001b[39mClock()\n\u001b[1;32m---> 13\u001b[0m \u001b[38;5;28;01mclass\u001b[39;00m \u001b[38;5;21;01mMyWave\u001b[39;00m:\n\u001b[0;32m     14\u001b[0m     \u001b[38;5;28mself\u001b[39m\u001b[38;5;241m.\u001b[39m\u001b[38;5;21m__init__\u001b[39m(length, c, totalTime, Nx, Nt)\n\u001b[0;32m     15\u001b[0m     \u001b[38;5;28mself\u001b[39m\u001b[38;5;241m.\u001b[39mlength \u001b[38;5;241m=\u001b[39m length\n",
      "Cell \u001b[1;32mIn[9], line 14\u001b[0m, in \u001b[0;36mMyWave\u001b[1;34m()\u001b[0m\n\u001b[0;32m     13\u001b[0m \u001b[38;5;28;01mclass\u001b[39;00m \u001b[38;5;21;01mMyWave\u001b[39;00m:\n\u001b[1;32m---> 14\u001b[0m     \u001b[38;5;28;43mself\u001b[39;49m\u001b[38;5;241m.\u001b[39m\u001b[38;5;21m__init__\u001b[39m(length, c, totalTime, Nx, Nt)\n\u001b[0;32m     15\u001b[0m     \u001b[38;5;28mself\u001b[39m\u001b[38;5;241m.\u001b[39mlength \u001b[38;5;241m=\u001b[39m length\n\u001b[0;32m     16\u001b[0m     \u001b[38;5;28mself\u001b[39m\u001b[38;5;241m.\u001b[39mc \u001b[38;5;241m=\u001b[39m c\n",
      "\u001b[1;31mNameError\u001b[0m: name 'self' is not defined"
     ]
    }
   ],
   "source": [
    "# Boiler plate template for pygame\n",
    "black = 0,0,0\n",
    "white = 255, 255, 255\n",
    "red = 255, 0, 0\n",
    "green = 0, 225, 0\n",
    "blue = 0, 0, 225\n",
    "\n",
    "screenSize = screenWidth, screenHeight = 600, 400\n",
    "screen = pygame.display.set_mode(screenSize)\n",
    "pygame.display.set_caption('Wavey Boy')\n",
    "clock = pygame.time.Clock()\n",
    "\n",
    "class MyWave:\n",
    "    self.__init__(length, c, totalTime, Nx, Nt)\n",
    "    self.length = length\n",
    "    self.c = c\n",
    "    self.totalTime = totalTime\n",
    "    self.Nx = Nx\n",
    "    self.Nt = Nt\n",
    "    self.deltax = length/(Nx-1)\n",
    "    self.deltat = totalTime/Nt\n",
    "    C=c*(deltat/deltax)\n",
    "\n",
    "fpsLimit = 60\n",
    "run = True\n",
    "while run:\n",
    "    for event in pygame.event.get():\n",
    "        if event.type == pygame.QUIT:\n",
    "            run = False\n",
    "\n",
    "    screen.fill(white)\n",
    "    pygame.display.flip()\n",
    "    clock.tick(fpsLimit)\n",
    "    \n",
    "pygame.quit()\n",
    "sys.exit()"
   ]
  },
  {
   "cell_type": "code",
   "execution_count": null,
   "id": "f8575341-9403-44b0-8811-3bcbc7f2fc8e",
   "metadata": {},
   "outputs": [],
   "source": []
  }
 ],
 "metadata": {
  "kernelspec": {
   "display_name": "Python 3 (ipykernel)",
   "language": "python",
   "name": "python3"
  },
  "language_info": {
   "codemirror_mode": {
    "name": "ipython",
    "version": 3
   },
   "file_extension": ".py",
   "mimetype": "text/x-python",
   "name": "python",
   "nbconvert_exporter": "python",
   "pygments_lexer": "ipython3",
   "version": "3.9.13"
  }
 },
 "nbformat": 4,
 "nbformat_minor": 5
}
