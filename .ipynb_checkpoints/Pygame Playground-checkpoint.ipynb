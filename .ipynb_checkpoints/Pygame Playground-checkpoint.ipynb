{
 "cells": [
  {
   "cell_type": "code",
   "execution_count": 8,
   "id": "5c61d269-b3af-44b2-a671-2a885344aae7",
   "metadata": {},
   "outputs": [],
   "source": [
    "import pygame\n",
    "import os\n",
    "import sys\n",
    "import math\n",
    "import random\n",
    "import euclid3 as euclid"
   ]
  },
  {
   "cell_type": "code",
   "execution_count": 11,
   "id": "d38bb522-3611-4f86-8bb9-cd027ea0166f",
   "metadata": {},
   "outputs": [
    {
     "ename": "SystemExit",
     "evalue": "",
     "output_type": "error",
     "traceback": [
      "An exception has occurred, use %tb to see the full traceback.\n",
      "\u001b[1;31mSystemExit\u001b[0m\n"
     ]
    }
   ],
   "source": [
    "black = 0,0,0\n",
    "white = 255, 255, 255\n",
    "red = 255, 0, 0\n",
    "green = 0, 225, 0\n",
    "blue = 0, 0, 225\n",
    "\n",
    "colors = [black, red, green, blue]\n",
    "\n",
    "gravity = euclid.Vector2(0.0, 80.0)\n",
    "initialVelocity = 0\n",
    "\n",
    "screenSize = screenWidth, screenHeight = 600, 400\n",
    "\n",
    "class MyCircle:\n",
    "    def __init__ (self, position, size, color=(255, 255, 255), velocity = euclid.Vector2(0,0), accel = euclid.Vector2(0,0), width = 1):\n",
    "        self.position = position\n",
    "        self.velocity = velocity\n",
    "        self.accel = accel\n",
    "        self.size = size\n",
    "        self.color = color\n",
    "        self.width = width\n",
    "\n",
    "    def display(self):\n",
    "        rx, ry = int(self.position.x), int(self.position.y)\n",
    "        pygame.draw.circle(screen, self.color, (rx, ry), self.size, self.width)\n",
    "\n",
    "    def move(self):\n",
    "        self.position += self.velocity*dtime\n",
    "        self.velocity += self.accel * dtime\n",
    "        self.bounce()\n",
    "\n",
    "    def changeVelocity(self, velocity):\n",
    "        self.velocity = velocity\n",
    "\n",
    "    def bounce(self):\n",
    "        if self.position.x <= self.size:\n",
    "            self.position.x = 2*self.size - self.position.x\n",
    "            self.velocity = self.velocity.reflect(euclid.Vector2(1,0))\n",
    "        elif self.position.x >= screenWidth - self.size:\n",
    "            self.position.x = 2*(screenWidth-self.size) - self.position.x\n",
    "            self.velocity = self.velocity.reflect(euclid.Vector2(1,0))\n",
    "\n",
    "        if self.position.y <= self.size:\n",
    "            self.position.y = 2*self.size - self.position.y\n",
    "            self.velocity = self.velocity.reflect(euclid.Vector2(0,1))\n",
    "        elif self.position.y >= screenHeight - self.size:\n",
    "            self.position.y = 2*(screenHeight-self.size) - self.position.y\n",
    "            self.velocity = self.velocity.reflect(euclid.Vector2(0,1))\n",
    "\n",
    "        \n",
    "\n",
    "def getRandomVelocity():\n",
    "    newAngle = random.uniform(0, math.pi*2)\n",
    "    newx = math.sin(newAngle)\n",
    "    newy = math.cos(newAngle)\n",
    "    newVector = euclid.Vector2(newx, newy)\n",
    "    newVector.normalize()\n",
    "    newVector *= initialVelocity\n",
    "    return(newVector)\n",
    "\n",
    "screen = pygame.display.set_mode(screenSize)\n",
    "pygame.display.set_caption('First Class!')\n",
    "\n",
    "numCircles = 10\n",
    "myCircles = []\n",
    "\n",
    "for n in range(numCircles):\n",
    "    size = random.randint(10,20)\n",
    "    x = random.randint(size, screenWidth-size)\n",
    "    y = random.randint(size, screenHeight-size)\n",
    "    color = random.choice(colors)\n",
    "    velocity = getRandomVelocity()\n",
    "    myCircle = MyCircle(euclid.Vector2(x,y), size, color, velocity, gravity)\n",
    "    myCircles.append(myCircle)\n",
    "\n",
    "clock = pygame.time.Clock()\n",
    "\n",
    "directionTick = 0\n",
    "\n",
    "fpsLimit = 60\n",
    "runMe = True\n",
    "while runMe:\n",
    "    for event in pygame.event.get():\n",
    "        if event.type == pygame.QUIT:\n",
    "            runMe = False\n",
    "\n",
    "    dtime_ms = clock.tick(fpsLimit)\n",
    "    dtime = dtime_ms/1000\n",
    "\n",
    "    screen.lock()\n",
    "    screen.fill(white)\n",
    "\n",
    "    for myCircle in myCircles:\n",
    "        myCircle.move()\n",
    "        myCircle.display()\n",
    "\n",
    "    screen.unlock()\n",
    "    pygame.display.flip()\n",
    "\n",
    "pygame.quit()\n",
    "sys.exit()"
   ]
  },
  {
   "cell_type": "code",
   "execution_count": 7,
   "id": "a5b66969-1caf-43ef-8012-07117a3a2148",
   "metadata": {},
   "outputs": [
    {
     "data": {
      "text/plain": [
       "int"
      ]
     },
     "execution_count": 7,
     "metadata": {},
     "output_type": "execute_result"
    }
   ],
   "source": []
  },
  {
   "cell_type": "code",
   "execution_count": null,
   "id": "fa87cc3e-9af2-4a55-9b6d-2bae460f022f",
   "metadata": {},
   "outputs": [],
   "source": []
  }
 ],
 "metadata": {
  "kernelspec": {
   "display_name": "Python 3 (ipykernel)",
   "language": "python",
   "name": "python3"
  },
  "language_info": {
   "codemirror_mode": {
    "name": "ipython",
    "version": 3
   },
   "file_extension": ".py",
   "mimetype": "text/x-python",
   "name": "python",
   "nbconvert_exporter": "python",
   "pygments_lexer": "ipython3",
   "version": "3.9.13"
  }
 },
 "nbformat": 4,
 "nbformat_minor": 5
}
