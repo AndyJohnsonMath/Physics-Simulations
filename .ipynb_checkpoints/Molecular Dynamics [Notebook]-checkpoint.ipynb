{
 "cells": [
  {
   "cell_type": "markdown",
   "id": "b5a24e70",
   "metadata": {},
   "source": [
    "In this notebook we will try to be creating a molecular dynamics simulation, as always, from scratch."
   ]
  },
  {
   "cell_type": "code",
   "execution_count": 1,
   "id": "cddb12bb",
   "metadata": {},
   "outputs": [],
   "source": [
    "import numpy as np\n",
    "import matplotlib.pyplot as plt\n",
    "import math\n",
    "import cmath\n",
    "import decimal\n",
    "import os\n",
    "import sys\n",
    "import time"
   ]
  },
  {
   "cell_type": "code",
   "execution_count": 4,
   "id": "ddf6a5e2",
   "metadata": {},
   "outputs": [],
   "source": [
    "sys.path.insert(0,'./Code')\n",
    "import simulationLibrary as sim"
   ]
  },
  {
   "cell_type": "code",
   "execution_count": 6,
   "id": "b0c90aa7",
   "metadata": {},
   "outputs": [],
   "source": [
    "def lennardJonesPotential(r,epsilon,sigma):\n",
    "    \"\"\"\n",
    "    Description\n",
    "    -----------\n",
    "    Classic function definition of the Lennard-Jones Potential.\n",
    "\n",
    "    Parameters\n",
    "    ----------\n",
    "    r : float\n",
    "       Distance from current position to position of interest.\n",
    "    epsilon, sigma : float\n",
    "       Parameters defining the Lnnard-Jones potential.\n",
    "\n",
    "    Returns \n",
    "    -------\n",
    "    The potential force between the two objects in question\n",
    "    \"\"\"\n",
    "    return(4*epsilon*((sigma/r)**12-(sigma/r)**6))"
   ]
  },
  {
   "cell_type": "code",
   "execution_count": null,
   "id": "551f267a",
   "metadata": {},
   "outputs": [],
   "source": []
  }
 ],
 "metadata": {
  "kernelspec": {
   "display_name": "Python 3 (ipykernel)",
   "language": "python",
   "name": "python3"
  },
  "language_info": {
   "codemirror_mode": {
    "name": "ipython",
    "version": 3
   },
   "file_extension": ".py",
   "mimetype": "text/x-python",
   "name": "python",
   "nbconvert_exporter": "python",
   "pygments_lexer": "ipython3",
   "version": "3.9.6"
  }
 },
 "nbformat": 4,
 "nbformat_minor": 5
}
