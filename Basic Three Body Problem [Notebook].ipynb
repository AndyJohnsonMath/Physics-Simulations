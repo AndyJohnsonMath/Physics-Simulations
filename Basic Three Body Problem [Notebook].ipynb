{
 "cells": [
  {
   "cell_type": "markdown",
   "id": "0e74a5e6",
   "metadata": {},
   "source": [
    "In this notebook we are just going to be looking at a small and simple gravity simulation with three point masses. This is just an experiment into physical simulations so its nothing fancy. Infact it uses the worst undating algorithm, of just following each particle and updating its positions/interactions on every iteration. Very computationally heavy, but that isnt the purpose of this notebook. I intend to look into optimized designs in the future but this is more of a proof of concept notebook."
   ]
  },
  {
   "cell_type": "code",
   "execution_count": 1,
   "id": "108fe62f",
   "metadata": {},
   "outputs": [],
   "source": [
    "# Run this line below into the console while in the directory of where the images will be saved.\n",
    "\n",
    "# ffmpeg -start_number 0 -framerate 60 -i graph%01d.png video.webm"
   ]
  },
  {
   "cell_type": "code",
   "execution_count": 2,
   "id": "dc89a356",
   "metadata": {},
   "outputs": [],
   "source": [
    "import numpy as np\n",
    "import matplotlib.pyplot as plt\n",
    "import math\n",
    "import cmath\n",
    "import decimal\n",
    "import os"
   ]
  },
  {
   "cell_type": "code",
   "execution_count": 5,
   "id": "e1f03757",
   "metadata": {},
   "outputs": [],
   "source": [
    "# The gravitational body in question\n",
    "# creates an instance of a gravitational point mass.\n",
    "# position, velocity and acceleration should all be 1x2 arrays\n",
    "class PointMassBody:\n",
    "    def __init__(self,mass,position,velocity,acceleration):\n",
    "        self.mass = mass\n",
    "        self.position = position\n",
    "        self.velocity = velocity\n",
    "        self.acceleration = acceleration\n",
    "\n",
    "# update(): takes in the time step size and updates the system by that time step\n",
    "def update(dt):\n",
    "    F12Hat = (b2.position-b1.position)/np.linalg.norm(b2.position-b1.position)\n",
    "    F13Hat = (b3.position-b1.position)/np.linalg.norm(b3.position-b1.position)\n",
    "    \n",
    "    F21Hat = (b1.position-b2.position)/np.linalg.norm(b1.position-b2.position)\n",
    "    F23Hat = (b3.position-b2.position)/np.linalg.norm(b3.position-b2.position)\n",
    "    \n",
    "    F31Hat = (b1.position-b3.position)/np.linalg.norm(b1.position-b3.position)\n",
    "    F32Hat = (b2.position-b3.position)/np.linalg.norm(b2.position-b3.position)\n",
    "    \n",
    "    F12 = ((G*b1.mass*b2.mass)/pow(np.linalg.norm(b2.position-b1.position),2))*F12Hat\n",
    "    F13 = ((G*b1.mass*b3.mass)/pow(np.linalg.norm(b3.position-b1.position),2))*F13Hat\n",
    "    \n",
    "    F21 = ((G*b2.mass*b1.mass)/pow(np.linalg.norm(b1.position-b2.position),2))*F21Hat\n",
    "    F23 = ((G*b2.mass*b3.mass)/pow(np.linalg.norm(b3.position-b2.position),2))*F23Hat\n",
    "    \n",
    "    F31 = ((G*b3.mass*b1.mass)/pow(np.linalg.norm(b1.position-b3.position),2))*F31Hat\n",
    "    F32 = ((G*b3.mass*b2.mass)/pow(np.linalg.norm(b2.position-b3.position),2))*F32Hat\n",
    "    \n",
    "    b1.acceleration = (1/b1.mass)*(F12+F13)\n",
    "    b1.velocity = b1.velocity+(b1.acceleration*dt)\n",
    "    b1.position = b1.position+(b1.velocity*dt)\n",
    "    b1.KE = (1/2)*b1.mass*np.dot(b1.velocity,b1.velocity)\n",
    "    \n",
    "    b2.acceleration = (1/b2.mass)*(F21+F23)\n",
    "    b2.velocity = b2.velocity+(b2.acceleration*dt)\n",
    "    b2.position = b2.position+(b2.velocity*dt)\n",
    "    b2.KE = (1/2)*b2.mass*np.dot(b2.velocity,b2.velocity)\n",
    "    \n",
    "    b3.acceleration = (1/b3.mass)*(F31+F32)\n",
    "    b3.velocity = b3.velocity+(b3.acceleration*dt)\n",
    "    b3.position = b3.position+(b3.velocity*dt)\n",
    "    b3.KE = (1/2)*b3.mass*np.dot(b3.velocity,b3.velocity)\n",
    "    \n",
    "    path1 = np.append(path1, [b1.position], axis=0)\n",
    "    path2 = np.append(path2, [b2.position], axis=0)\n",
    "    path3 = np.append(path3, [b3.position], axis=0)"
   ]
  },
  {
   "cell_type": "code",
   "execution_count": 6,
   "id": "8b2accc7",
   "metadata": {
    "scrolled": false
   },
   "outputs": [
    {
     "ename": "UnboundLocalError",
     "evalue": "local variable 'path1' referenced before assignment",
     "output_type": "error",
     "traceback": [
      "\u001b[1;31m---------------------------------------------------------------------------\u001b[0m",
      "\u001b[1;31mUnboundLocalError\u001b[0m                         Traceback (most recent call last)",
      "File \u001b[1;32m<timed exec>:22\u001b[0m\n",
      "Cell \u001b[1;32mIn[5], line 46\u001b[0m, in \u001b[0;36mupdate\u001b[1;34m(dt)\u001b[0m\n\u001b[0;32m     43\u001b[0m b3\u001b[38;5;241m.\u001b[39mposition \u001b[38;5;241m=\u001b[39m b3\u001b[38;5;241m.\u001b[39mposition\u001b[38;5;241m+\u001b[39m(b3\u001b[38;5;241m.\u001b[39mvelocity\u001b[38;5;241m*\u001b[39mdt)\n\u001b[0;32m     44\u001b[0m b3\u001b[38;5;241m.\u001b[39mKE \u001b[38;5;241m=\u001b[39m (\u001b[38;5;241m1\u001b[39m\u001b[38;5;241m/\u001b[39m\u001b[38;5;241m2\u001b[39m)\u001b[38;5;241m*\u001b[39mb3\u001b[38;5;241m.\u001b[39mmass\u001b[38;5;241m*\u001b[39mnp\u001b[38;5;241m.\u001b[39mdot(b3\u001b[38;5;241m.\u001b[39mvelocity,b3\u001b[38;5;241m.\u001b[39mvelocity)\n\u001b[1;32m---> 46\u001b[0m path1 \u001b[38;5;241m=\u001b[39m np\u001b[38;5;241m.\u001b[39mappend(\u001b[43mpath1\u001b[49m, [b1\u001b[38;5;241m.\u001b[39mposition], axis\u001b[38;5;241m=\u001b[39m\u001b[38;5;241m0\u001b[39m)\n\u001b[0;32m     47\u001b[0m path2 \u001b[38;5;241m=\u001b[39m np\u001b[38;5;241m.\u001b[39mappend(path2, [b2\u001b[38;5;241m.\u001b[39mposition], axis\u001b[38;5;241m=\u001b[39m\u001b[38;5;241m0\u001b[39m)\n\u001b[0;32m     48\u001b[0m path3 \u001b[38;5;241m=\u001b[39m np\u001b[38;5;241m.\u001b[39mappend(path3, [b3\u001b[38;5;241m.\u001b[39mposition], axis\u001b[38;5;241m=\u001b[39m\u001b[38;5;241m0\u001b[39m)\n",
      "\u001b[1;31mUnboundLocalError\u001b[0m: local variable 'path1' referenced before assignment"
     ]
    },
    {
     "data": {
      "image/png": "[encoded data removed]",
      "text/plain": [
       "<Figure size 640x480 with 1 Axes>"
      ]
     },
     "metadata": {},
     "output_type": "display_data"
    }
   ],
   "source": [
    "%%time\n",
    "\n",
    "#The path below should be the path that YOU are saving every frame to. I didnt want to provide my personal one, so unfortunately this is the one thing you will have to do yourself\n",
    "dir = 'C:/Users/darkb/Documents/Uidaho Classes/CS shit/Physics Simulations/Images for simulation'\n",
    "\n",
    "for f in os.listdir(dir):\n",
    "    os.remove(os.path.join(dir, f))\n",
    "\n",
    "#Initilize variables\n",
    "b1 = PointMassBody(1000000000000, np.array([30,0]), np.array([0-3,2]), np.array([0,0]))\n",
    "b2 = PointMassBody(2000000000000, np.array([-30,0]), np.array([1.4,1]), np.array([0,0]))\n",
    "b3 = PointMassBody(500000000000, np.array([0,30]), np.array([-0.9,-0.08]), np.array([0,0]))\n",
    "\n",
    "dt=1/30\n",
    "G = 6.674*pow(10,-11)\n",
    "\n",
    "#Start the main loop\n",
    "for i in range(100):\n",
    "    figure, axes = plt.subplots()\n",
    "    update(dt)\n",
    "    \n",
    "    axes.scatter([b1.position[0],b2.position[0],b3.position[0]],[b1.position[1],b2.position[1],b3.position[1]],color=[\"r\",\"g\",\"b\"])\n",
    "    axes.scatter([path1[0],path2[0],path3[0]],[path1[1],path2[1],path3[1]],color=[\"r\",\"g\",\"b\"])\n",
    "    plt.grid()\n",
    "    plt.xlim(-100,100)\n",
    "    plt.ylim(-100,100)\n",
    "    \n",
    "    figure.savefig('/Users/darkb/Documents/Uidaho Classes/CS shit/Physics Simulations/Images for simulation/graph'+str(i)+'.png')\n",
    "    plt.close('all')"
   ]
  },
  {
   "cell_type": "code",
   "execution_count": null,
   "id": "7c76f77c",
   "metadata": {},
   "outputs": [],
   "source": [
    "%%time\n",
    "\n",
    "#The path below should be the path that YOU are saving every frame to. I didnt want to provide my personal one, so unfortunately this is the one thing you will have to do yourself\n",
    "dir = 'C:/Users/darkb/Documents/Uidaho Classes/CS shit/Physics Simulations/Images for simulation'\n",
    "\n",
    "for f in os.listdir(dir):\n",
    "    os.remove(os.path.join(dir, f))\n",
    "\n",
    "#Initilize variables\n",
    "b1 = PointMassBody(1000000000000, np.array([30,0]), np.array([0-3,2]), np.array([0,0]))\n",
    "b2 = PointMassBody(2000000000000, np.array([-30,0]), np.array([1.4,1]), np.array([0,0]))\n",
    "b3 = PointMassBody(500000000000, np.array([0,30]), np.array([-0.9,-0.08]), np.array([0,0]))\n",
    "\n",
    "path1 = np.array([b1.position])\n",
    "path2 = np.array([b2.position])\n",
    "path3 = np.array([b3.position])\n",
    "\n",
    "dt=1/30\n",
    "G = 6.674*pow(10,-11)\n",
    "\n",
    "#Start the main loop\n",
    "for i in range(100):\n",
    "    figure, axes = plt.subplots()\n",
    "    update(dt)\n",
    "    \n",
    "    axes.scatter([b1.position[0],b2.position[0],b3.position[0]],[b1.position[1],b2.position[1],b3.position[1]],color=[\"r\",\"g\",\"b\"])\n",
    "    axes.scatter([path1[0],path2[0],path3[0]],[path1[1],path2[1],path3[1]],color=[\"r\",\"g\",\"b\"])\n",
    "    plt.grid()\n",
    "    plt.xlim(-100,100)\n",
    "    plt.ylim(-100,100)\n",
    "    \n",
    "    figure.savefig('/Users/darkb/Documents/Uidaho Classes/CS shit/Physics Simulations/Images for simulation/graph'+str(i)+'.png')\n",
    "    plt.close('all')"
   ]
  }
 ],
 "metadata": {
  "kernelspec": {
   "display_name": "Python 3 (ipykernel)",
   "language": "python",
   "name": "python3"
  },
  "language_info": {
   "codemirror_mode": {
    "name": "ipython",
    "version": 3
   },
   "file_extension": ".py",
   "mimetype": "text/x-python",
   "name": "python",
   "nbconvert_exporter": "python",
   "pygments_lexer": "ipython3",
   "version": "3.9.13"
  }
 },
 "nbformat": 4,
 "nbformat_minor": 5
}
